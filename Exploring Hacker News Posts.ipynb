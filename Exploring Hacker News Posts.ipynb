{
 "metadata": {
  "language_info": {
   "codemirror_mode": {
    "name": "ipython",
    "version": 3
   },
   "file_extension": ".py",
   "mimetype": "text/x-python",
   "name": "python",
   "nbconvert_exporter": "python",
   "pygments_lexer": "ipython3",
   "version": "3.7.6-final"
  },
  "orig_nbformat": 2,
  "kernelspec": {
   "name": "python3",
   "display_name": "Python 3",
   "language": "python"
  }
 },
 "nbformat": 4,
 "nbformat_minor": 2,
 "cells": [
  {
   "source": [
    "# Exploring Hacker News Posts\n",
    "\n",
    "Hacker News is a site started by the startup incubator Y Combinator, where user-submitted stories (known as \"posts\") are voted and commented upon, similar to reddit. Hacker News is extremely popular in technology and startup circles, and posts that make it to the top of Hacker News' listings can get hundreds of thousands of visitors as a result.\n",
    "\n",
    "You can find the data set [here](https://www.kaggle.com/hacker-news/hacker-news-posts). Our firts step is to reduced the data from almost 300,000 rows to approximately 70,000 rows by removing all submissions that did not receive any comments. Below are descriptions of the columns:\n",
    "\n",
    "- id: The unique identifier from Hacker News for the post\n",
    "- title: The title of the post\n",
    "- url: The URL that the posts links to, if the post has a URL\n",
    "- num_points: The number of points the post acquired, calculated as the total number of upvotes minus the total number of downvotes\n",
    "- num_comments: The number of comments that were made on the post\n",
    "- author: The username of the person who submitted the post\n",
    "- created_at: The date and time at which the post was submitted\n",
    "\n",
    "Here are the first few rows of the data set:"
   ],
   "cell_type": "markdown",
   "metadata": {}
  },
  {
   "cell_type": "code",
   "execution_count": 1,
   "metadata": {},
   "outputs": [
    {
     "output_type": "execute_result",
     "data": {
      "text/plain": [
       "          id                                              title  \\\n",
       "5   12578975                      Saving the Hassle of Shopping   \n",
       "17  12578822    Amazons Algorithms Dont Find You the Best Deals   \n",
       "28  12578694  Emergency dose of epinephrine that does not co...   \n",
       "34  12578624  Phone Makers Could Cut Off Drivers. So Why Don...   \n",
       "37  12578556  OpenMW, Open Source Elderscrolls III: Morrowin...   \n",
       "\n",
       "                                                  url  num_points  \\\n",
       "5   https://blog.menswr.com/2016/09/07/whats-new-w...           1   \n",
       "17  https://www.technologyreview.com/s/602442/amaz...           1   \n",
       "28                   http://m.imgur.com/gallery/th6Ua           2   \n",
       "34  http://www.nytimes.com/2016/09/25/technology/p...           4   \n",
       "37                             https://openmw.org/en/          32   \n",
       "\n",
       "    num_comments       author      created_at  \n",
       "5              1        bdoux  9/26/2016 3:13  \n",
       "17             1    yarapavan  9/26/2016 2:26  \n",
       "28             1  dredmorbius  9/26/2016 1:54  \n",
       "34             1        danso  9/26/2016 1:37  \n",
       "37             3    rocky1138  9/26/2016 1:24  "
      ],
      "text/html": "<div>\n<style scoped>\n    .dataframe tbody tr th:only-of-type {\n        vertical-align: middle;\n    }\n\n    .dataframe tbody tr th {\n        vertical-align: top;\n    }\n\n    .dataframe thead th {\n        text-align: right;\n    }\n</style>\n<table border=\"1\" class=\"dataframe\">\n  <thead>\n    <tr style=\"text-align: right;\">\n      <th></th>\n      <th>id</th>\n      <th>title</th>\n      <th>url</th>\n      <th>num_points</th>\n      <th>num_comments</th>\n      <th>author</th>\n      <th>created_at</th>\n    </tr>\n  </thead>\n  <tbody>\n    <tr>\n      <th>5</th>\n      <td>12578975</td>\n      <td>Saving the Hassle of Shopping</td>\n      <td>https://blog.menswr.com/2016/09/07/whats-new-w...</td>\n      <td>1</td>\n      <td>1</td>\n      <td>bdoux</td>\n      <td>9/26/2016 3:13</td>\n    </tr>\n    <tr>\n      <th>17</th>\n      <td>12578822</td>\n      <td>Amazons Algorithms Dont Find You the Best Deals</td>\n      <td>https://www.technologyreview.com/s/602442/amaz...</td>\n      <td>1</td>\n      <td>1</td>\n      <td>yarapavan</td>\n      <td>9/26/2016 2:26</td>\n    </tr>\n    <tr>\n      <th>28</th>\n      <td>12578694</td>\n      <td>Emergency dose of epinephrine that does not co...</td>\n      <td>http://m.imgur.com/gallery/th6Ua</td>\n      <td>2</td>\n      <td>1</td>\n      <td>dredmorbius</td>\n      <td>9/26/2016 1:54</td>\n    </tr>\n    <tr>\n      <th>34</th>\n      <td>12578624</td>\n      <td>Phone Makers Could Cut Off Drivers. So Why Don...</td>\n      <td>http://www.nytimes.com/2016/09/25/technology/p...</td>\n      <td>4</td>\n      <td>1</td>\n      <td>danso</td>\n      <td>9/26/2016 1:37</td>\n    </tr>\n    <tr>\n      <th>37</th>\n      <td>12578556</td>\n      <td>OpenMW, Open Source Elderscrolls III: Morrowin...</td>\n      <td>https://openmw.org/en/</td>\n      <td>32</td>\n      <td>3</td>\n      <td>rocky1138</td>\n      <td>9/26/2016 1:24</td>\n    </tr>\n  </tbody>\n</table>\n</div>"
     },
     "metadata": {},
     "execution_count": 1
    }
   ],
   "source": [
    "from csv import reader\n",
    "import pandas as pd\n",
    "\n",
    "data = pd.read_csv('Data\\hacker-news-posts\\HN_posts_year_to_Sep_26_2016.csv')\n",
    "data = data.dropna()\n",
    "data = data[data['num_comments'] > 0]\n",
    "data.head()"
   ]
  },
  {
   "cell_type": "code",
   "execution_count": 2,
   "metadata": {},
   "outputs": [
    {
     "output_type": "execute_result",
     "data": {
      "text/plain": [
       "id               int64\n",
       "title           object\n",
       "url             object\n",
       "num_points       int64\n",
       "num_comments     int64\n",
       "author          object\n",
       "created_at      object\n",
       "dtype: object"
      ]
     },
     "metadata": {},
     "execution_count": 2
    }
   ],
   "source": [
    "data.dtypes"
   ]
  },
  {
   "source": [
    "Note that for the DataQuest tutorial that this exercise is taken from, the data is analysed as a csv. Hence, even though I could analyse this data with the pandas library, I shall be using the long-hand version by iterating over a list of lists."
   ],
   "cell_type": "markdown",
   "metadata": {}
  },
  {
   "cell_type": "code",
   "execution_count": 3,
   "metadata": {
    "tags": []
   },
   "outputs": [
    {
     "output_type": "stream",
     "name": "stdout",
     "text": [
      "[12578975, 'Saving the Hassle of Shopping', 'https://blog.menswr.com/2016/09/07/whats-new-with-your-style-feed/', 1, 1, 'bdoux', '9/26/2016 3:13']\n[12578822, 'Amazons Algorithms Dont Find You the Best Deals', 'https://www.technologyreview.com/s/602442/amazons-algorithms-dont-find-you-the-best-deals/', 1, 1, 'yarapavan', '9/26/2016 2:26']\n[12578694, 'Emergency dose of epinephrine that does not cost an arm and a leg', 'http://m.imgur.com/gallery/th6Ua', 2, 1, 'dredmorbius', '9/26/2016 1:54']\n[12578624, 'Phone Makers Could Cut Off Drivers. So Why Dont They?', 'http://www.nytimes.com/2016/09/25/technology/phone-makers-could-cut-off-drivers-so-why-dont-they.html', 4, 1, 'danso', '9/26/2016 1:37']\n[12578556, 'OpenMW, Open Source Elderscrolls III: Morrowind Reimplementation', 'https://openmw.org/en/', 32, 3, 'rocky1138', '9/26/2016 1:24']\n"
     ]
    }
   ],
   "source": [
    "# Convert the dataframe to the list of rows i.e. list of lists\n",
    "hn = data.to_numpy().tolist()\n",
    "for row in hn[:5]:\n",
    "    print(row)"
   ]
  },
  {
   "cell_type": "code",
   "execution_count": 4,
   "metadata": {},
   "outputs": [
    {
     "output_type": "stream",
     "name": "stdout",
     "text": [
      "['id', 'title', 'url', 'num_points', 'num_comments', 'author', 'created_at']\n"
     ]
    }
   ],
   "source": [
    "# Extract headers of the dataset as a list\n",
    "headers = list(data)\n",
    "print(headers)"
   ]
  },
  {
   "cell_type": "code",
   "execution_count": 5,
   "metadata": {},
   "outputs": [
    {
     "output_type": "stream",
     "name": "stdout",
     "text": [
      "Number of ask posts: 31\nNumber of show posts: 4845\nNumber of other posts: 65788\n"
     ]
    }
   ],
   "source": [
    "# Group the different posts by type\n",
    "ask_posts = []\n",
    "show_posts = []\n",
    "other_posts = []\n",
    "\n",
    "for row in hn:\n",
    "    title = row[1]\n",
    "    if title.lower().startswith('ask hn'):\n",
    "        ask_posts.append(row)\n",
    "    elif title.lower().startswith('show hn'):\n",
    "        show_posts.append(row)\n",
    "    else:\n",
    "        other_posts.append(row)\n",
    "\n",
    "print(f'Number of ask posts: {len(ask_posts)}')\n",
    "print(f'Number of show posts: {len(show_posts)}')\n",
    "print(f'Number of other posts: {len(other_posts)}')"
   ]
  },
  {
   "cell_type": "code",
   "execution_count": 6,
   "metadata": {},
   "outputs": [
    {
     "output_type": "stream",
     "name": "stdout",
     "text": [
      "Average comments per ask post: 2.3225806451612905\nAverage comments per show post: 10.067285861713106\n"
     ]
    }
   ],
   "source": [
    "# Determine whether ask or show posts recieve more comments on average\n",
    "total_ask_comments = 0\n",
    "for row in ask_posts:\n",
    "    num_comments = int(row[4])\n",
    "    total_ask_comments += num_comments\n",
    "\n",
    "avg_ask_comments = total_ask_comments/len(ask_posts)\n",
    "print(f'Average comments per ask post: {avg_ask_comments}')\n",
    "\n",
    "total_show_comments = 0\n",
    "for row in show_posts:\n",
    "    num_comments = int(row[4])\n",
    "    total_show_comments += num_comments\n",
    "\n",
    "avg_show_comments = total_show_comments/len(show_posts)\n",
    "print(f'Average comments per show post: {avg_show_comments}')"
   ]
  },
  {
   "source": [
    "On average, we can see that show posts recieve more than 4 times as many comments as ask posts. We can also note that there are far more show posts than ask posts.\n",
    "\n",
    "Now lets calculate the amount of ask posts created per hour."
   ],
   "cell_type": "markdown",
   "metadata": {}
  },
  {
   "cell_type": "code",
   "execution_count": 7,
   "metadata": {},
   "outputs": [],
   "source": [
    "import datetime as dt"
   ]
  },
  {
   "cell_type": "code",
   "execution_count": 8,
   "metadata": {},
   "outputs": [
    {
     "output_type": "stream",
     "name": "stdout",
     "text": [
      "Posts by hour:\n{'07': 2, '18': 4, '14': 3, '13': 3, '15': 2, '02': 1, '21': 3, '20': 1, '17': 2, '16': 2, '06': 2, '11': 1, '09': 1, '04': 1, '22': 2, '00': 1}\nComments by hour:\n{'07': 3, '18': 7, '14': 8, '13': 7, '15': 4, '02': 2, '21': 8, '20': 2, '17': 4, '16': 5, '06': 5, '11': 3, '09': 1, '04': 6, '22': 5, '00': 2}\n"
     ]
    }
   ],
   "source": [
    "result_list = []\n",
    "for row in ask_posts:\n",
    "    # datetime format mm/dd/yyyy H:M\n",
    "    created_at = row[6]\n",
    "    num_comments = int(row[4])\n",
    "    result_list.append([created_at, num_comments])\n",
    "\n",
    "counts_by_hour = {}\n",
    "comments_by_hour = {}\n",
    "\n",
    "for row in result_list:\n",
    "    time = dt.datetime.strptime(row[0], \"%m/%d/%Y %H:%M\")\n",
    "    hour = dt.datetime.strftime(time, \"%H\")\n",
    "    if hour not in counts_by_hour:\n",
    "        counts_by_hour[hour] = 1\n",
    "        comments_by_hour[hour] = row[1]\n",
    "    else:\n",
    "        counts_by_hour[hour] += 1\n",
    "        comments_by_hour[hour] += row[1]\n",
    "\n",
    "print(f\"Posts by hour:\\n{counts_by_hour}\")\n",
    "print(f\"Comments by hour:\\n{comments_by_hour}\")"
   ]
  },
  {
   "source": [
    "Now we can calculate the average number of comments per post for posts created during each hour of the day."
   ],
   "cell_type": "markdown",
   "metadata": {}
  },
  {
   "cell_type": "code",
   "execution_count": 9,
   "metadata": {},
   "outputs": [
    {
     "output_type": "stream",
     "name": "stdout",
     "text": [
      "[['07', 1.5], ['18', 1.75], ['14', 2.6666666666666665], ['13', 2.3333333333333335], ['15', 2.0], ['02', 2.0], ['21', 2.6666666666666665], ['20', 2.0], ['17', 2.0], ['16', 2.5], ['06', 2.5], ['11', 3.0], ['09', 1.0], ['04', 6.0], ['22', 2.5], ['00', 2.0]]\n"
     ]
    }
   ],
   "source": [
    "avg_by_hour = []\n",
    "for hour in comments_by_hour:\n",
    "    num_posts = counts_by_hour[hour]\n",
    "    num_comments = comments_by_hour[hour]\n",
    "    avg = num_comments / num_posts\n",
    "    avg_by_hour.append([hour, avg])\n",
    "\n",
    "print(avg_by_hour)"
   ]
  },
  {
   "cell_type": "code",
   "execution_count": 10,
   "metadata": {},
   "outputs": [
    {
     "output_type": "stream",
     "name": "stdout",
     "text": [
      "Top 5 Hours for Ask Posts Comments\n04:00: 6.00 average comments per post\n11:00: 3.00 average comments per post\n21:00: 2.67 average comments per post\n14:00: 2.67 average comments per post\n22:00: 2.50 average comments per post\n"
     ]
    }
   ],
   "source": [
    "# Sort the list of lists by average comments per hour\n",
    "swap_avg_by_hour = []\n",
    "for hour in avg_by_hour:\n",
    "    swap_avg_by_hour.append([hour[1], hour[0]])\n",
    "\n",
    "sorted_swap = sorted(swap_avg_by_hour, reverse=True)\n",
    "\n",
    "print(\"Top 5 Hours for Ask Posts Comments\")\n",
    "\n",
    "for avg in sorted_swap[:5]:\n",
    "    print(\"{hour}: {avg:.2f} average comments per post\".format(\n",
    "        hour=dt.datetime.strftime(dt.datetime.strptime(avg[1], \"%H\"), \"%H:%M\"), \n",
    "        avg=avg[0]\n",
    "        )\n",
    "    )"
   ]
  },
  {
   "source": [
    "So if you want to create a post on Hacker News and for that post to recieve the most number of comments possible, the dataset suggests creating the post at 4am!"
   ],
   "cell_type": "markdown",
   "metadata": {}
  }
 ]
}