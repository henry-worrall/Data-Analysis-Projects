{
 "metadata": {
  "language_info": {
   "codemirror_mode": {
    "name": "ipython",
    "version": 3
   },
   "file_extension": ".py",
   "mimetype": "text/x-python",
   "name": "python",
   "nbconvert_exporter": "python",
   "pygments_lexer": "ipython3",
   "version": "3.7.6-final"
  },
  "orig_nbformat": 2,
  "kernelspec": {
   "name": "python3",
   "display_name": "Python 3",
   "language": "python"
  }
 },
 "nbformat": 4,
 "nbformat_minor": 2,
 "cells": [
  {
   "source": [
    "# Profitable App Profiles for the App Store and Google Play Markets\n",
    "\n",
    "If an app-development company wishes to build a business model around building free apps and selling in-app adverts, then the company needs to know which apps are likely to attract the most users, as this is what increases the company's income. Therefore, the goal of this project is to determine what sort of apps the company should focus its efforts on developing to boost profits."
   ],
   "cell_type": "markdown",
   "metadata": {}
  },
  {
   "source": [
    "As of September 2018, there were approximately 2 million iOS apps available on the App Store, and 2.1 million Android apps on Google Play. Here, we'll try to analyze a sample of the data.\n",
    "\n",
    "Data relating to the google play store can be found [here](https://www.kaggle.com/lava18/google-play-store-apps).  \n",
    "Data relating to apple store can be found [here](https://www.kaggle.com/ramamet4/app-store-apple-data-set-10k-apps)."
   ],
   "cell_type": "markdown",
   "metadata": {}
  },
  {
   "source": [
    "### Import the data"
   ],
   "cell_type": "markdown",
   "metadata": {}
  },
  {
   "cell_type": "code",
   "execution_count": 1,
   "metadata": {},
   "outputs": [],
   "source": [
    "from csv import reader\n",
    "# The Google Play data set\n",
    "opened_file = open('Data/google-play-store-apps/googleplaystore.csv', encoding='utf8')\n",
    "read_file = reader(opened_file)\n",
    "android = list(read_file)\n",
    "android_header = android[0]\n",
    "android = android[1:]\n",
    "\n",
    "# The App Store data set\n",
    "opened_file = open('Data/app-store-apple-data-set-10k-apps/AppleStore.csv', encoding='utf8')\n",
    "read_file = reader(opened_file)\n",
    "ios = list(read_file)\n",
    "ios_header = ios[0]\n",
    "ios = ios[1:]"
   ]
  },
  {
   "source": [
    "### Explore the data\n",
    "Here we define a function for looking at the data. In this project, we won't be using the pandas package and will explore and analyse data by parsing it as lists of lists. It is noted that pandas is designed to make this sort of analysis easier.  \n",
    "Information and descriptions about each column can be found on the Kaggle website by following the links given above (taking you to the datasets)."
   ],
   "cell_type": "markdown",
   "metadata": {}
  },
  {
   "cell_type": "code",
   "execution_count": 2,
   "metadata": {},
   "outputs": [],
   "source": [
    "def explore_data(dataset, start, end, rows_and_columns=False):\n",
    "    dataset_slice = dataset[start:end]    \n",
    "    for row in dataset_slice:\n",
    "        print(row)\n",
    "        print('\\n') # adds a new (empty) line after each row\n",
    "\n",
    "    if rows_and_columns:\n",
    "        print('Number of rows:', len(dataset))\n",
    "        print('Number of columns:', len(dataset[0]))"
   ]
  },
  {
   "cell_type": "code",
   "execution_count": 3,
   "metadata": {},
   "outputs": [
    {
     "output_type": "stream",
     "name": "stdout",
     "text": [
      "Android data\n['Photo Editor & Candy Camera & Grid & ScrapBook', 'ART_AND_DESIGN', '4.1', '159', '19M', '10,000+', 'Free', '0', 'Everyone', 'Art & Design', 'January 7, 2018', '1.0.0', '4.0.3 and up']\n\n\n['Coloring book moana', 'ART_AND_DESIGN', '3.9', '967', '14M', '500,000+', 'Free', '0', 'Everyone', 'Art & Design;Pretend Play', 'January 15, 2018', '2.0.0', '4.0.3 and up']\n\n\n['U Launcher Lite – FREE Live Cool Themes, Hide Apps', 'ART_AND_DESIGN', '4.7', '87510', '8.7M', '5,000,000+', 'Free', '0', 'Everyone', 'Art & Design', 'August 1, 2018', '1.2.4', '4.0.3 and up']\n\n\n['Sketch - Draw & Paint', 'ART_AND_DESIGN', '4.5', '215644', '25M', '50,000,000+', 'Free', '0', 'Teen', 'Art & Design', 'June 8, 2018', 'Varies with device', '4.2 and up']\n\n\n['Pixel Draw - Number Art Coloring Book', 'ART_AND_DESIGN', '4.3', '967', '2.8M', '100,000+', 'Free', '0', 'Everyone', 'Art & Design;Creativity', 'June 20, 2018', '1.1', '4.4 and up']\n\n\nNumber of rows: 10841\nNumber of columns: 13\n\niOS data\n['1', '281656475', 'PAC-MAN Premium', '100788224', 'USD', '3.99', '21292', '26', '4', '4.5', '6.3.5', '4+', 'Games', '38', '5', '10', '1']\n\n\n['2', '281796108', 'Evernote - stay organized', '158578688', 'USD', '0', '161065', '26', '4', '3.5', '8.2.2', '4+', 'Productivity', '37', '5', '23', '1']\n\n\n['3', '281940292', 'WeatherBug - Local Weather, Radar, Maps, Alerts', '100524032', 'USD', '0', '188583', '2822', '3.5', '4.5', '5.0.0', '4+', 'Weather', '37', '5', '3', '1']\n\n\n['4', '282614216', 'eBay: Best App to Buy, Sell, Save! Online Shopping', '128512000', 'USD', '0', '262241', '649', '4', '4.5', '5.10.0', '12+', 'Shopping', '37', '5', '9', '1']\n\n\n['5', '282935706', 'Bible', '92774400', 'USD', '0', '985920', '5320', '4.5', '5', '7.5.1', '4+', 'Reference', '37', '5', '45', '1']\n\n\nNumber of rows: 7197\nNumber of columns: 17\n"
     ]
    }
   ],
   "source": [
    "print('Android data')\n",
    "explore_data(android,0,5, True)\n",
    "print('\\niOS data')\n",
    "explore_data(ios,0,5, True)"
   ]
  },
  {
   "cell_type": "code",
   "execution_count": 4,
   "metadata": {},
   "outputs": [
    {
     "output_type": "stream",
     "name": "stdout",
     "text": [
      "Android ['App', 'Category', 'Rating', 'Reviews', 'Size', 'Installs', 'Type', 'Price', 'Content Rating', 'Genres', 'Last Updated', 'Current Ver', 'Android Ver']\niOS ['', 'id', 'track_name', 'size_bytes', 'currency', 'price', 'rating_count_tot', 'rating_count_ver', 'user_rating', 'user_rating_ver', 'ver', 'cont_rating', 'prime_genre', 'sup_devices.num', 'ipadSc_urls.num', 'lang.num', 'vpp_lic']\n"
     ]
    }
   ],
   "source": [
    "print('Android', android_header)\n",
    "print('iOS', ios_header)"
   ]
  },
  {
   "source": [
    "## Data Cleaning\n",
    "It was reported on the discussion blog that the Android dataset has an error in row 10472. We can inspect this using the `explore_data` function on the surrounding rows.\n"
   ],
   "cell_type": "markdown",
   "metadata": {}
  },
  {
   "cell_type": "code",
   "execution_count": 5,
   "metadata": {},
   "outputs": [
    {
     "output_type": "stream",
     "name": "stdout",
     "text": [
      "['Xposed Wi-Fi-Pwd', 'PERSONALIZATION', '3.5', '1042', '404k', '100,000+', 'Free', '0', 'Everyone', 'Personalization', 'August 5, 2014', '3.0.0', '4.0.3 and up']\n\n\n['Life Made WI-Fi Touchscreen Photo Frame', '1.9', '19', '3.0M', '1,000+', 'Free', '0', 'Everyone', '', 'February 11, 2018', '1.0.19', '4.0 and up']\n\n\n['osmino Wi-Fi: free WiFi', 'TOOLS', '4.2', '134203', '4.1M', '10,000,000+', 'Free', '0', 'Everyone', 'Tools', 'August 7, 2018', '6.06.14', '4.4 and up']\n\n\nNumber of rows: 10841\nNumber of columns: 13\n"
     ]
    }
   ],
   "source": [
    "explore_data(android,10471,10474,True)"
   ]
  },
  {
   "source": [
    "Indeed, we see that there is an error. There should be 13 columns for each row, but there are only 12 for the 'Life Made WI-Fi Touchscreen Photo Frame' app. On inspection, we see that the 'Category' column is missing.\n",
    "\n",
    "We have two options:  \n",
    "\n",
    "<ol>\n",
    "<li>Delete the row</li>  \n",
    "<li>Insert the correct category ('Lifestyle') into the row</li>\n",
    "</ol>\n",
    "\n",
    "For ease, we will delete the entire row using the `del` statement.\n"
   ],
   "cell_type": "markdown",
   "metadata": {}
  },
  {
   "cell_type": "code",
   "execution_count": 6,
   "metadata": {},
   "outputs": [],
   "source": [
    "del android[10472] # only run once"
   ]
  },
  {
   "cell_type": "code",
   "execution_count": 7,
   "metadata": {},
   "outputs": [
    {
     "output_type": "stream",
     "name": "stdout",
     "text": [
      "['Xposed Wi-Fi-Pwd', 'PERSONALIZATION', '3.5', '1042', '404k', '100,000+', 'Free', '0', 'Everyone', 'Personalization', 'August 5, 2014', '3.0.0', '4.0.3 and up']\n\n\n['osmino Wi-Fi: free WiFi', 'TOOLS', '4.2', '134203', '4.1M', '10,000,000+', 'Free', '0', 'Everyone', 'Tools', 'August 7, 2018', '6.06.14', '4.4 and up']\n\n\n['Sat-Fi Voice', 'COMMUNICATION', '3.4', '37', '14M', '1,000+', 'Free', '0', 'Everyone', 'Communication', 'November 21, 2014', '2.2.1.5', '2.2 and up']\n\n\nNumber of rows: 10840\nNumber of columns: 13\n"
     ]
    }
   ],
   "source": [
    "explore_data(android,10471,10474,True)"
   ]
  },
  {
   "source": [
    "Note that after running the `explore_data` on the same rows, the 'Life Made WI-Fi Touchscreen Photo Frame' app has been removed."
   ],
   "cell_type": "markdown",
   "metadata": {}
  },
  {
   "cell_type": "code",
   "execution_count": null,
   "metadata": {},
   "outputs": [],
   "source": []
  },
  {
   "source": [
    "### Duplicates\n",
    "If we run the code below, we see that the instagram app appears 4 times in the android dataset."
   ],
   "cell_type": "markdown",
   "metadata": {}
  },
  {
   "cell_type": "code",
   "execution_count": 8,
   "metadata": {},
   "outputs": [
    {
     "output_type": "stream",
     "name": "stdout",
     "text": [
      "['Instagram', 'SOCIAL', '4.5', '66577313', 'Varies with device', '1,000,000,000+', 'Free', '0', 'Teen', 'Social', 'July 31, 2018', 'Varies with device', 'Varies with device']\n['Instagram', 'SOCIAL', '4.5', '66577446', 'Varies with device', '1,000,000,000+', 'Free', '0', 'Teen', 'Social', 'July 31, 2018', 'Varies with device', 'Varies with device']\n['Instagram', 'SOCIAL', '4.5', '66577313', 'Varies with device', '1,000,000,000+', 'Free', '0', 'Teen', 'Social', 'July 31, 2018', 'Varies with device', 'Varies with device']\n['Instagram', 'SOCIAL', '4.5', '66509917', 'Varies with device', '1,000,000,000+', 'Free', '0', 'Teen', 'Social', 'July 31, 2018', 'Varies with device', 'Varies with device']\n"
     ]
    }
   ],
   "source": [
    "for app in android:\n",
    "    if app[0]=='Instagram':\n",
    "        print(app)"
   ]
  },
  {
   "cell_type": "code",
   "execution_count": 9,
   "metadata": {},
   "outputs": [
    {
     "output_type": "stream",
     "name": "stdout",
     "text": [
      "Number of duplicate apps: 1181\nNumber of unique apps: 9659\n"
     ]
    }
   ],
   "source": [
    "duplicate_apps = []\n",
    "unique_apps = []\n",
    "\n",
    "for app in android:\n",
    "    name = app[0]\n",
    "    if name in unique_apps:\n",
    "        duplicate_apps.append(name)\n",
    "    else:\n",
    "        unique_apps.append(name)\n",
    "\n",
    "print(f'Number of duplicate apps: {len(duplicate_apps)}')\n",
    "print(f'Number of unique apps: {len(unique_apps)}')\n"
   ]
  },
  {
   "source": [
    "Running the code above creates two list of apps: one for unique apps where every app is listed once, and one for duplicate apps, where the names of the apps which are repeated are listed.  \n",
    "It is noted that for the example of duplicates given for instagram, the rows only varied in the fourth column (number of ratings given). We can use this criteria to remove the duplicates. We can choose to keep only the row with the highest number of reviews.\n",
    "\n",
    "To remove the duplicates in this way, we shall loop over the apps once and store the number of maximum number of reviews and the app names in a dictionary.\n",
    " "
   ],
   "cell_type": "markdown",
   "metadata": {}
  },
  {
   "cell_type": "code",
   "execution_count": 10,
   "metadata": {},
   "outputs": [],
   "source": [
    "reviews_max = {}\n",
    "for app in android:\n",
    "    name = app[0]\n",
    "    n_reviews = float(app[3])\n",
    "    if name in reviews_max:\n",
    "        reviews_max[name] = max(reviews_max[name],n_reviews)\n",
    "    else:\n",
    "        reviews_max[name] = n_reviews"
   ]
  },
  {
   "cell_type": "code",
   "execution_count": 11,
   "metadata": {},
   "outputs": [
    {
     "output_type": "execute_result",
     "data": {
      "text/plain": [
       "66577446.0"
      ]
     },
     "metadata": {},
     "execution_count": 11
    }
   ],
   "source": [
    "reviews_max['Instagram']"
   ]
  },
  {
   "source": [
    "As you can see, when we look at the app 'Instagram' in the `reviews_max` dictionary, the maximum number of reviews for the list of four rows called in the original dataset is given.\n",
    "\n",
    "We can create a new list of lists which contains just the rows with the maximum reviews for the unique app. This is done below and stored in a list of lists called android_clean. Another list, already_added, is used to keep track of which apps have already been added to the android_clean list."
   ],
   "cell_type": "markdown",
   "metadata": {}
  },
  {
   "cell_type": "code",
   "execution_count": 12,
   "metadata": {},
   "outputs": [],
   "source": [
    "android_clean = []\n",
    "already_added = []\n",
    "\n",
    "for app in android:\n",
    "    name = app[0]\n",
    "    n_reviews = float(app[3])\n",
    "    if n_reviews == reviews_max[name] and name not in already_added:\n",
    "        android_clean.append(app)\n",
    "        already_added.append(name)"
   ]
  },
  {
   "source": [
    "We can use the explore_data function to check that our cleaned data is what we expected. Note that we set the `rows_and_columns` argument to True. This tells us that we have 9,659 rows. This is what we expected - the same as the number uniquely named apps."
   ],
   "cell_type": "markdown",
   "metadata": {}
  },
  {
   "cell_type": "code",
   "execution_count": 13,
   "metadata": {},
   "outputs": [
    {
     "output_type": "stream",
     "name": "stdout",
     "text": [
      "['Photo Editor & Candy Camera & Grid & ScrapBook', 'ART_AND_DESIGN', '4.1', '159', '19M', '10,000+', 'Free', '0', 'Everyone', 'Art & Design', 'January 7, 2018', '1.0.0', '4.0.3 and up']\n\n\n['U Launcher Lite – FREE Live Cool Themes, Hide Apps', 'ART_AND_DESIGN', '4.7', '87510', '8.7M', '5,000,000+', 'Free', '0', 'Everyone', 'Art & Design', 'August 1, 2018', '1.2.4', '4.0.3 and up']\n\n\n['Sketch - Draw & Paint', 'ART_AND_DESIGN', '4.5', '215644', '25M', '50,000,000+', 'Free', '0', 'Teen', 'Art & Design', 'June 8, 2018', 'Varies with device', '4.2 and up']\n\n\n['Pixel Draw - Number Art Coloring Book', 'ART_AND_DESIGN', '4.3', '967', '2.8M', '100,000+', 'Free', '0', 'Everyone', 'Art & Design;Creativity', 'June 20, 2018', '1.1', '4.4 and up']\n\n\n['Paper flowers instructions', 'ART_AND_DESIGN', '4.4', '167', '5.6M', '50,000+', 'Free', '0', 'Everyone', 'Art & Design', 'March 26, 2017', '1.0', '2.3 and up']\n\n\nNumber of rows: 9659\nNumber of columns: 13\n"
     ]
    }
   ],
   "source": [
    "explore_data(android_clean,0,5, True)"
   ]
  },
  {
   "source": [
    "## Apple App Store Data\n",
    "\n",
    "There should be no duplicate apps in the Apple app store data. However, on inspection, we see that there are some duplicates. These can be removed by choosing the most recent version. Since version numbers often have multiple decimal points, we cannot compare them as floats or integers. Luckly, we can still compare the strings, since '1.0.1' > '0.1.2' and '1.4.1' > '1.1.3'\n",
    " \n",
    "Note that there are a different number of columns, and the column numbers do not correspond to the Android store.\n",
    "\n",
    "### Duplicates"
   ],
   "cell_type": "markdown",
   "metadata": {}
  },
  {
   "cell_type": "code",
   "execution_count": 14,
   "metadata": {},
   "outputs": [
    {
     "output_type": "stream",
     "name": "stdout",
     "text": [
      "Length of iOS dataset: 7197\nNumber of unique apps: 7195\nNumber of duplicates: 2\nDuplicates ['VR Roller Coaster', 'Mannequin Challenge']\n"
     ]
    }
   ],
   "source": [
    "ios_duplicates = []\n",
    "ios_unique = []\n",
    "\n",
    "for app in ios:\n",
    "    name = app[2]\n",
    "    if name in ios_unique:\n",
    "        ios_duplicates.append(name)\n",
    "    else:\n",
    "        ios_unique.append(name)\n",
    "\n",
    "print(f'Length of iOS dataset: {len(ios)}')\n",
    "print(f'Number of unique apps: {len(ios_unique)}')\n",
    "print(f'Number of duplicates: {len(ios_duplicates)}')\n",
    "\n",
    "print('Duplicates',ios_duplicates)"
   ]
  },
  {
   "cell_type": "code",
   "execution_count": 15,
   "metadata": {
    "tags": []
   },
   "outputs": [
    {
     "output_type": "stream",
     "name": "stdout",
     "text": [
      "iOS columns ['', 'id', 'track_name', 'size_bytes', 'currency', 'price', 'rating_count_tot', 'rating_count_ver', 'user_rating', 'user_rating_ver', 'ver', 'cont_rating', 'prime_genre', 'sup_devices.num', 'ipadSc_urls.num', 'lang.num', 'vpp_lic'] \n\n['4000', '952877179', 'VR Roller Coaster', '169523200', 'USD', '0', '107', '102', '3.5', '3.5', '2.0.0', '4+', 'Games', '37', '5', '1', '1']\n['7579', '1089824278', 'VR Roller Coaster', '240964608', 'USD', '0', '67', '44', '3.5', '4', '0.81', '4+', 'Games', '38', '0', '1', '1']\n['10751', '1173990889', 'Mannequin Challenge', '109705216', 'USD', '0', '668', '87', '3', '3', '1.4', '9+', 'Games', '37', '4', '1', '1']\n['10885', '1178454060', 'Mannequin Challenge', '59572224', 'USD', '0', '105', '58', '4', '4.5', '1.0.1', '4+', 'Games', '38', '5', '1', '1']\n"
     ]
    }
   ],
   "source": [
    "print('iOS columns', ios_header, '\\n') # N.B. 'track_name' == 'App Name'\n",
    "for app in ios:\n",
    "    name = app[2]\n",
    "    if name in ios_duplicates:\n",
    "        print(app)"
   ]
  },
  {
   "cell_type": "code",
   "execution_count": 16,
   "metadata": {},
   "outputs": [
    {
     "output_type": "stream",
     "name": "stdout",
     "text": [
      "Number of apps in new dictionary: 7195\n"
     ]
    }
   ],
   "source": [
    "lastest_version = {}\n",
    "\n",
    "for app in ios:\n",
    "    name = app[2]\n",
    "    version = app[10]\n",
    "    if name in lastest_version:\n",
    "        lastest_version[name] = max(lastest_version[name], version)\n",
    "    else:\n",
    "        lastest_version[name] = version\n",
    "\n",
    "print(f'Number of apps in new dictionary: {len(lastest_version)}')"
   ]
  },
  {
   "cell_type": "code",
   "execution_count": 17,
   "metadata": {},
   "outputs": [
    {
     "output_type": "stream",
     "name": "stdout",
     "text": [
      "Length of cleaned data: 7195\n"
     ]
    }
   ],
   "source": [
    "ios_part_clean = []\n",
    "ios_already_added = []\n",
    "\n",
    "for app in ios:\n",
    "    name = app[2]\n",
    "    version = app[10]\n",
    "    if lastest_version[name] == version and name not in ios_already_added:\n",
    "        ios_part_clean.append(app)\n",
    "        ios_already_added.append(name)\n",
    "\n",
    "print(f'Length of cleaned data: {len(ios_part_clean)}')"
   ]
  },
  {
   "source": [
    "### Non-english apps\n",
    "\n",
    "Addionally, there are apps which are clearly not English in this dataset - which goes against the business requirements. These should be removed. The cell below shows us some examples of non-english apps in the dataset"
   ],
   "cell_type": "markdown",
   "metadata": {}
  },
  {
   "cell_type": "code",
   "execution_count": 18,
   "metadata": {},
   "outputs": [
    {
     "output_type": "stream",
     "name": "stdout",
     "text": [
      "iOS columns ['', 'id', 'track_name', 'size_bytes', 'currency', 'price', 'rating_count_tot', 'rating_count_ver', 'user_rating', 'user_rating_ver', 'ver', 'cont_rating', 'prime_genre', 'sup_devices.num', 'ipadSc_urls.num', 'lang.num', 'vpp_lic']\n['77', '299029654', '大辞林', '210088960', 'USD', '21.99', '64', '0', '4.5', '0', '4.1.1', '4+', 'Reference', '37', '5', '2', '1']\n\n\n['79', '299515267', 'Allrecipes Dinner Spinner', '36399104', 'USD', '0', '109349', '1540', '3.5', '5', '6.3', '12+', 'Food & Drink', '37', '5', '1', '1']\n\n\n['80', '299853944', '新浪新闻-阅读最新时事热门头条资讯视频', '115143680', 'USD', '0', '2229', '4', '3.5', '1', '6.2.1', '17+', 'News', '37', '0', '1', '1']\n\n\n['81', '299949744', 'MotionX GPS', '56481792', 'USD', '1.99', '14970', '24', '3.5', '4.5', '24.2', '4+', 'Navigation', '37', '0', '1', '1']\n\n\n['82', '300048137', 'AccuWeather - Weather for Life', '181941248', 'USD', '0', '144214', '2162', '3.5', '4', '10.4.1', '4+', 'Weather', '37', '1', '43', '1']\n\n\n['83', '300238550', 'Mint: Personal Finance, Budget, Bills & Money', '162891776', 'USD', '0', '232940', '683', '4', '4.5', '5.9.0', '4+', 'Finance', '37', '5', '1', '1']\n\n\nNumber of rows: 7195\nNumber of columns: 17\n"
     ]
    }
   ],
   "source": [
    "print('iOS columns', ios_header) # N.B. 'track_name' == 'App Name'\n",
    "explore_data(ios_part_clean,68,74,True)"
   ]
  },
  {
   "source": [
    "We can write a function test if a string is entirely english or not. English strings can be defined as the ASCII characters, which have an ordinal numner less than 127. Python has an in-built `ord()` function to transform a given character to the ordinal number. In order to account for app titles with emojis and other non-ASCII characters, we can define the function such that the title requires at least 3 non-ASCII characters."
   ],
   "cell_type": "markdown",
   "metadata": {}
  },
  {
   "cell_type": "code",
   "execution_count": 19,
   "metadata": {},
   "outputs": [],
   "source": [
    "def is_english(string):\n",
    "    non_ascii_chars = 0\n",
    "    for character in string:\n",
    "        if ord(character) > 127:\n",
    "            non_ascii_chars += 1\n",
    "    \n",
    "    if non_ascii_chars > 3:\n",
    "        return False\n",
    "    return True"
   ]
  },
  {
   "cell_type": "code",
   "execution_count": 20,
   "metadata": {},
   "outputs": [
    {
     "output_type": "stream",
     "name": "stdout",
     "text": [
      "True\nFalse\n"
     ]
    }
   ],
   "source": [
    "print(is_english('Instachat 😜'))\n",
    "print(is_english('爱奇艺PPS -《欢乐颂2》电视剧热播'))"
   ]
  },
  {
   "cell_type": "code",
   "execution_count": 21,
   "metadata": {
    "tags": [
     "outputPrepend"
    ]
   },
   "outputs": [
    {
     "output_type": "stream",
     "name": "stdout",
     "text": [
      " '1.1.4', '4+', 'Games', '38', '5', '11', '1'], ['10510', '1164512642', 'Sago Mini Holiday Trucks and Diggers', '116524032', 'USD', '0', '56', '56', '4.5', '4.5', '1.0', '4+', 'Education', '38', '5', '1', '1'], ['10513', '1164765952', 'Dungeon Witcher', '102876160', 'USD', '0', '5', '3', '2.5', '3.5', '1.2.0', '12+', 'Games', '40', '5', '0', '1'], ['10516', '1164801111', 'AutoSleep. Auto Sleep Tracker for Watch', '7802880', 'USD', '2.99', '979', '368', '4.5', '4.5', '4.0.1', '4+', 'Health & Fitness', '13', '0', '9', '1'], ['10522', '1164891129', 'We’re Going on a Bear Hunt', '167348224', 'USD', '2.99', '3', '3', '3.5', '3.5', '1.0.3', '4+', 'Games', '37', '5', '13', '0'], ['10524', '1164956679', 'BRICEMOJI Brice de Nice', '72006656', 'USD', '0.99', '0', '0', '0', '0', '1.0.2', '4+', 'Entertainment', '37', '0', '1', '1'], ['10525', '1165109912', 'WitchSpring2', '956569600', 'USD', '3.99', '17', '9', '4.5', '5', '1.36', '9+', 'Games', '37', '5', '4', '1'], ['10528', '1165315677', 'My First Crush - High School Love', '131100672', 'USD', '0', '710', '157', '4.5', '4.5', '1.1', '4+', 'Games', '38', '5', '11', '1'], ['10531', '1165391697', 'Crazy Clown Chase', '21992448', 'USD', '0', '778', '191', '4', '4', '1.26', '9+', 'Games', '38', '5', '4', '1'], ['10533', '1165482016', 'Let Go and Let God - Doreen Virtue', '72539136', 'USD', '4.99', '19', '1', '4', '1', '1.1', '4+', 'Lifestyle', '37', '4', '1', '1'], ['10534', '1165525994', 'PhotoScan - scanner by Google Photos', '71370752', 'USD', '0', '1421', '268', '4.5', '5', '1.4.1', '4+', 'Photo & Video', '25', '0', '36', '1'], ['10535', '1165924249', 'Monkey', '68677632', 'USD', '0', '3060', '122', '4', '3.5', '2.1.1', '12+', 'Social Networking', '37', '0', '1', '1'], ['10540', '1166165827', 'The Rocky Horror Picture Show Emojis', '55424000', 'USD', '1.99', '0', '0', '0', '0', '1.0.3', '17+', 'Entertainment', '37', '4', '1', '1'], ['10542', '1166225107', 'My Town : Cinema', '230627328', 'USD', '2.99', '49', '39', '4', '4.5', '1.01', '4+', 'Education', '37', '5', '1', '1'], ['10551', '1166596707', 'Fitness Girl - Dance and Play at the Gym', '268526592', 'USD', '0', '913', '134', '4.5', '4.5', '1.4.1', '4+', 'Games', '38', '5', '11', '1'], ['10554', '1166863768', 'Dumber League', '42499072', 'USD', '0.99', '7', '0', '4.5', '0', '1.2', '4+', 'Games', '40', '5', '3', '1'], ['10555', '1166974799', 'CATCHY Photos-Easter Bunny, Tooth Fairy and more..', '81744896', 'USD', '0', '228', '32', '1.5', '1.5', '1.55', '4+', 'Photo & Video', '37', '2', '1', '1'], ['10561', '1167445841', 'Advent Magnificat Companion 2016', '53123072', 'USD', '1.99', '1', '1', '5', '5', '1.0.1', '4+', 'Book', '37', '4', '3', '1'], ['10563', '1167651042', 'Demi Lovato - Zombarazzie Adventure', '87374848', 'USD', '0', '690', '136', '5', '4.5', '1.4', '4+', 'Games', '37', '5', '0', '1'], ['10570', '1168304142', 'Keepy Ducky', '434906112', 'USD', '0', '1083', '46', '4.5', '4.5', '1.4', '4+', 'Games', '37', '5', '1', '1'], ['10571', '1168399577', 'Sonia Tlev', '50384896', 'USD', '0', '0', '0', '0', '0', '1.0.2', '4+', 'Health & Fitness', '37', '0', '6', '1'], ['10575', '1168567265', 'Monster Zombie Plague War - Virtual Reality (VR)', '217378816', 'USD', '0', '12', '2', '4', '5', '2.0.0', '17+', 'Games', '38', '5', '1', '1'], ['10577', '1168645184', 'Sago Mini Puppy Preschool', '139482112', 'USD', '2.99', '15', '15', '4', '4', '1.1', '4+', 'Education', '38', '5', '1', '1'], ['10582', '1168960919', 'Golden Lotus Slots', '111412224', 'USD', '0', '0', '0', '0', '0', '1.1.0', '17+', 'Games', '37', '5', '3', '1'], ['10587', '1169297765', 'Fantasy Princess - Girls Makeup & Dress Up Games', '97917952', 'USD', '1.99', '3', '3', '3.5', '3.5', '9999.1.1', '4+', 'Games', '40', '5', '1', '1'], ['10588', '1169325682', 'Bestshot: Take Clear Photos Automatically & Easily', '24675328', 'USD', '0.99', '0', '0', '0', '0', '2.0.2', '4+', 'Photo & Video', '37', '0', '2', '1'], ['10600', '1169530248', 'Waiit', '133295104', 'USD', '0', '35', '21', '3.5', '3', '1.0.2', '4+', 'Games', '37', '4', '1', '1'], ['10601', '1169545955', 'Juju on the Beat', '34719744', 'USD', '0', '2772', '2495', '3.5', '3.5', '1.4', '4+', 'Games', '37', '3', '1', '1'], ['10603', '1169836224', 'Balvinmoji', '7344128', 'USD', '0.99', '22', '1', '5', '5', '1.1', '12+', 'Entertainment', '37', '0', '1', '1'], ['10609', '1169971902', 'Hey Duggee: We Love Animals', '136347648', 'USD', '2.99', '0', '0', '0', '0', '1.2', '4+', 'Games', '40', '5', '1', '1'], ['10611', '1170155524', 'Wall Switch', '46997504', 'USD', '0', '19', '19', '4', '4', '1.0', '4+', 'Games', '38', '5', '1', '1'], ['10613', '1170260363', 'Wavemoji', '16411648', 'USD', '1.99', '3', '3', '5', '5', '1.0', '12+', 'Entertainment', '37', '0', '1', '1'], ['10614', '1170329495', 'Cubed Rally World', '67192832', 'USD', '0', '14', '9', '4.5', '4.5', '1.2.0', '4+', 'Games', '37', '5', '1', '1'], ['10618', '1170395210', 'Room Escape Game - Pictures Room Esacpe', '88484864', 'USD', '0', '6', '2', '5', '5', '1.1', '4+', 'Games', '40', '0', '1', '1'], ['10621', '1170406182', 'Shark Boom - Challenge Friends with your Pet', '245415936', 'USD', '0', '0', '0', '0', '0', '1.0.9', '4+', 'Games', '38', '5', '1', '1'], ['10627', '1170744152', 'Boycott Trump Biz', '6972416', 'USD', '0.99', '14', '5', '3.5', '4', '2.0', '4+', 'News', '37', '1', '1', '1'], ['10636', '1171015241', \"Sally's Law\", '392790016', 'USD', '0.99', '8', '0', '4', '0', '1.0.86', '4+', 'Games', '38', '5', '4', '1'], ['10643', '1171039301', 'Italian Emoji -  Italian Emojis, Stickers and Gifs', '80857088', 'USD', '1.99', '28', '5', '3', '3.5', '1.7', '12+', 'Utilities', '37', '0', '1', '1'], ['10647', '1171093849', 'MonPetitGazon', '19794944', 'USD', '1.99', '0', '0', '0', '0', '1.5.0', '9+', 'Sports', '37', '3', '1', '1'], ['10652', '1171329625', 'Dinosaur Planet', '144868352', 'USD', '0', '0', '0', '0', '0', '9.12.0000', '4+', 'Education', '38', '5', '12', '1'], ['10655', '1171332633', 'NashMoji ™ by Nash Grier', '61317120', 'USD', '0.99', '24', '11', '5', '5', '1.0.1', '9+', 'Entertainment', '37', '0', '1', '1'], ['10656', '1171367187', 'LINE BLOG', '101159936', 'USD', '0', '0', '0', '0', '0', '1.5.0', '12+', 'Social Networking', '37', '0', '1', '1'], ['10662', '1171552390', 'MacMoji ™  by Conor McGregor', '69789696', 'USD', '1.99', '223', '30', '5', '5', '1.2.1', '9+', 'Entertainment', '37', '0', '1', '1'], ['10663', '1171558918', 'Spiral Tower', '142680064', 'USD', '0', '78', '78', '4', '4', '1.0', '4+', 'Games', '38', '5', '1', '1'], ['10672', '1171663655', 'BoycottTrump', '7025664', 'USD', '0', '601', '8', '3', '3', '2.0.3', '4+', 'Lifestyle', '37', '0', '1', '1'], ['10680', '1171814682', 'Paper.io', '281393152', 'USD', '0', '24097', '4469', '4', '4.5', '2.8', '4+', 'Games', '37', '4', '1', '1'], ['10693', '1172179917', 'Replica : A Little Temporary Safety', '127227904', 'USD', '1.99', '35', '19', '4.5', '4.5', '1.2', '12+', 'Games', '37', '5', '1', '1'], ['10696', '1172627190', 'Juju on that Beat Challenge', '41964544', 'USD', '0', '10', '3', '4', '5', '1.1', '4+', 'Games', '40', '0', '1', '1'], ['10697', '1172660336', \"ImpossibleGO! - You can't clear\", '170200064', 'USD', '0', '0', '0', '0', '0', '1.0.1', '4+', 'Games', '38', '3', '1', '1'], ['10704', '1172884808', 'Haunted Rooms: Escape VR Game for Google Cardboard', '479346688', 'USD', '0', '60', '10', '4.5', '3.5', '2.0', '12+', 'Games', '40', '5', '1', '1'], ['10711', '1173333213', 'ContactsXL 2017', '16477184', 'USD', '1.99', '20', '6', '4', '4', '1.9', '4+', 'Productivity', '37', '5', '5', '1'], ['10714', '1173380979', 'IQ200 - If you can clear all stage', '143289344', 'USD', '0', '1', '1', '2', '2', '1.0.1', '4+', 'Games', '38', '3', '1', '1'], ['10727', '1173451691', 'Kendall KMoji', '70244352', 'USD', '0.99', '11', '0', '4.5', '0', '1.1', '4+', 'Entertainment', '37', '0', '1', '1'], ['10730', '1173455771', 'BLW Slow Cook Recipes', '37238784', 'USD', '3.99', '0', '0', '0', '0', '2.4', '4+', 'Lifestyle', '37', '5', '1', '1'], ['10733', '1173642524', 'Mundo Lanugo en Navidad – Juegos Navideños', '225289216', 'USD', '1.99', '0', '0', '0', '0', '1.1', '4+', 'Games', '40', '5', '1', '1'], ['10734', '1173650428', 'Nope Quiz', '183178240', 'USD', '0', '61', '1', '5', '5', '1.2.1', '12+', 'Games', '37', '5', '1', '1'], ['10735', '1173688324', 'Flip', '128708608', 'USD', '0', '230', '230', '4.5', '4.5', '1.0', '4+', 'Games', '40', '5', '1', '1'], ['10746', '1173806490', 'Juju On That Beat  - Dance Challenge Game', '66482176', 'USD', '0', '21', '10', '2', '2.5', '3.0', '4+', 'Games', '38', '4', '1', '1'], ['10750', '1173954282', 'Mannequin Challenge Maker', '4682752', 'USD', '0.99', '35', '1', '2', '5', '2.3', '4+', 'Photo & Video', '37', '0', '1', '1'], ['10751', '1173990889', 'Mannequin Challenge', '109705216', 'USD', '0', '668', '87', '3', '3', '1.4', '9+', 'Games', '37', '4', '1', '1'], ['10752', '1174041307', 'Linda Brown: Interactive Story', '162812928', 'USD', '0', '537', '36', '4.5', '4.5', '1.2.6', '12+', 'Games', '37', '3', '1', '1'], ['10768', '1174307280', 'Ocean Overlord - Global War', '296336384', 'USD', '0', '0', '0', '0', '0', '2.0.10', '12+', 'Games', '40', '5', '12', '1'], ['10771', '1174468136', 'Tokyo Wizard', '23376896', 'USD', '2.99', '10', '10', '4', '4', '1.0.1', '12+', 'Games', '38', '5', '1', '1'], ['10772', '1174489793', 'Snowball!!', '57315328', 'USD', '1.99', '13', '13', '5', '5', '1.0', '4+', 'Games', '40', '4', '10', '1'], ['10773', '1174503010', 'Hovercrash', '64712704', 'USD', '0', '41', '5', '4', '4', '1.2.1', '4+', 'Games', '37', '5', '1', '1'], ['10774', '1174545438', 'Jurassic VR for Google Cardboard', '131453952', 'USD', '1.99', '7', '3', '1.5', '1.5', '1.2', '4+', 'Games', '37', '0', '1', '1'], ['10777', '1174727122', 'Book - room escape game -', '71790592', 'USD', '0', '10', '10', '5', '5', '1.0', '4+', 'Games', '37', '0', '1', '1'], ['10778', '1174729560', \"Icarus - A Star's Journey\", '114270208', 'USD', '0', '230', '209', '3.5', '3.5', '1.01', '4+', 'Games', '40', '5', '1', '1'], ['10785', '1174999653', 'WWEmoji', '143140864', 'USD', '1.99', '179', '20', '4', '4', '1.5', '9+', 'Entertainment', '37', '0', '1', '1'], ['10796', '1175316770', 'Call Recorder for iPhone - Record Phone Calls', '94401536', 'USD', '9.99', '39', '7', '2.5', '2.5', '1.7', '4+', 'Business', '37', '0', '7', '1'], ['10797', '1175547625', 'Escape a Crepe House', '32714752', 'USD', '0', '3', '3', '5', '5', '1.0', '4+', 'Games', '40', '0', '2', '1'], ['10804', '1175953961', 'Shopkins Run!', '169488384', 'USD', '3.99', '183', '77', '4.5', '4.5', '1.1.1', '4+', 'Games', '38', '5', '1', '1'], ['10815', '1176147574', 'SofaScore Live Sports: Scores, VIDEO & Stats', '55877632', 'USD', '0', '103', '1', '4', '5', '6.1.13', '12+', 'Sports', '37', '4', '26', '1'], ['10816', '1176148737', '25 Days of Christmas: Holiday Advent Calendar 2016', '94569472', 'USD', '0', '38', '11', '4.5', '4.5', '1.2', '4+', 'Entertainment', '38', '5', '14', '1'], ['10817', '1176156412', 'Top Tier', '91834368', 'USD', '0', '48', '1', '4.5', '5', '1.3', '4+', 'Games', '37', '5', '1', '1'], ['10821', '1176374647', 'HealthFace', '45356032', 'USD', '1.99', '28', '5', '3.5', '4', '1.1.2', '4+', 'Health & Fitness', '13', '0', '24', '1'], ['10832', '1176486119', 'Fast Food Rampage', '95555584', 'USD', '0', '281', '52', '4.5', '4.5', '1.0.7', '12+', 'Games', '38', '3', '1', '1'], ['10833', '1176492470', 'Ice Princess - Royal Wedding Day', '279991296', 'USD', '0', '283', '65', '4.5', '4.5', '1.7.0', '4+', 'Games', '38', '5', '11', '1'], ['10845', '1176875793', 'Amusement Park Tour 2: Fun Xmas', '91865088', 'USD', '0', '115', '40', '4.5', '4.5', '1.1.3', '4+', 'Games', '38', '5', '16', '1'], ['10847', '1176877177', 'Sweet Tales: Match 3 Christmas', '102147072', 'USD', '0', '215', '40', '4.5', '4.5', '1.0.2', '4+', 'Games', '38', '5', '16', '1'], ['10848', '1176901281', 'Web Browser Recorder Pro', '1734656', 'USD', '1.99', '14', '3', '2', '4.5', '1.2', '17+', 'Utilities', '37', '0', '3', '1'], ['10867', '1177414604', 'Escape Game: Christmas Eve', '81683456', 'USD', '0', '21', '21', '4.5', '4.5', '1.0.0', '4+', 'Games', '40', '2', '1', '1'], ['10871', '1177806007', 'Disaster Prediction App', '26094592', 'USD', '2.99', '32', '9', '4.5', '4.5', '1.7', '12+', 'Lifestyle', '37', '0', '1', '1'], ['10880', '1178082935', 'Stickman Base Jumper 2', '323822592', 'USD', '0', '1362', '1142', '5', '5', '1.0.1', '4+', 'Games', '38', '5', '1', '1'], ['10886', '1178454068', 'Bottle Flip!', '124506112', 'USD', '0', '3384', '3124', '4.5', '4.5', '1.1.1', '4+', 'Games', '40', '5', '1', '1'], ['10887', '1178472225', 'Mustknow - anonymous video Q&A', '92884992', 'USD', '0', '53', '0', '1.5', '0', '4.0.0', '12+', 'Social Networking', '37', '0', '1', '1'], ['10894', '1178822943', \"PetMojis' by The Dog Agency\", '84905984', 'USD', '0.99', '79', '2', '2', '1', '1.1.1', '4+', 'Entertainment', '37', '0', '1', '1'], ['10899', '1178880179', 'Ao Oni2', '86687744', 'USD', '0', '7', '3', '4', '4', '1.5.0', '12+', 'Games', '37', '0', '5', '1'], ['10907', '1178973979', 'PJ Masks: Super City Run', '343991296', 'USD', '2.99', '12', '12', '2.5', '2.5', '1.0', '4+', 'Entertainment', '37', '5', '1', '1'], ['10910', '1179213211', 'VanDammemoji by Jean-Claude Van Damme', '17164288', 'USD', '0.99', '18', '0', '4.5', '0', '1.3', '12+', 'Entertainment', '37', '0', '1', '1'], ['10911', '1179267591', 'Multi Level Car Parking 6 Shopping Mall Garage Lot', '219144192', 'USD', '0', '162', '162', '4', '4', '1.0', '4+', 'Games', '37', '5', '1', '1'], ['10918', '1179462965', 'Farming USA 2', '299749376', 'USD', '2.99', '269', '35', '4.5', '4.5', '1.33', '4+', 'Games', '37', '5', '1', '1'], ['10919', '1179475725', 'Peppa Pig: Party Time', '251977728', 'USD', '0.99', '9', '0', '2', '0', '1.1.6', '4+', 'Education', '40', '5', '1', '1'], ['10922', '1179685798', 'VR Video World - Virtual Reality', '97276928', 'USD', '0', '88', '26', '4.5', '5', '1.0.14', '12+', 'Photo & Video', '38', '0', '2', '1'], ['10925', '1179840697', '1600', '261758976', 'USD', '0', '110', '68', '3.5', '3.5', '1.1', '4+', 'Education', '37', '4', '1', '1'], ['10932', '1180103898', 'Everfilter - transform your photos into artworks', '49449984', 'USD', '0', '15', '3', '3.5', '2.5', '1.1.3', '4+', 'Photo & Video', '37', '0', '7', '1'], ['10934', '1180300366', 'Pitmoji - Pit Bull Emoji & Stickers', '32785408', 'USD', '2.99', '29', '29', '3', '3', '1.0', '12+', 'Entertainment', '37', '4', '1', '1'], ['10935', '1180340451', 'Valley of Fear Virtual Reality', '150863872', 'USD', '0', '46', '32', '4', '4', '1.21', '12+', 'Games', '37', '0', '1', '1'], ['10938', '1180467988', 'Christmas Swap 3 -Match toy & candy to countdown', '62359552', 'USD', '0', '96', '96', '4.5', '4.5', '1.0', '4+', 'Games', '40', '3', '25', '1'], ['10950', '1180885427', 'VR Horror Maze Walk :Horror Fever For VR Cardboard', '96786432', 'USD', '0', '6', '0', '3', '0', '2.1', '17+', 'Games', '40', '4', '1', '1'], ['10962', '1181016912', 'Peanuts StoryGIF – Cute GIF & Story Maker', '37198848', 'USD', '0.99', '5', '4', '2.5', '2', '1.2', '4+', 'Entertainment', '37', '3', '9', '1'], ['10963', '1181024195', 'My Town : Beauty Contest', '203589632', 'USD', '2.99', '31', '31', '4.5', '4.5', '1.0', '4+', 'Games', '37', '5', '1', '1'], ['10964', '1181025437', 'Demi Lovato Stickers', '88388608', 'USD', '0.99', '12', '8', '3.5', '3.5', '1.1', '12+', 'Social Networking', '37', '0', '1', '1'], ['10978', '1181358720', 'VPN Go - Safe Fast & Stable VPN Proxy', '55926784', 'USD', '0', '881', '5', '5', '4.5', '1.6.6', '4+', 'Business', '37', '3', '4', '1'], ['10979', '1181526812', 'EMOJIZI BOOBA', '52536320', 'USD', '1.99', '1', '1', '4', '4', '1.0.1', '17+', 'Utilities', '37', '0', '1', '1'], ['10980', '1181582218', 'Addon Creator Studio for Minecraft PE', '61915136', 'USD', '1.99', '214', '137', '4', '4.5', '1.2', '12+', 'Entertainment', '37', '4', '1', '1'], ['10981', '1181601206', 'Truth or Dare ·', '31555584', 'USD', '0', '109', '32', '4.5', '4.5', '1.1', '17+', 'Entertainment', '37', '0', '10', '1'], ['10982', '1181616006', 'Island Delta', '628180992', 'USD', '2.99', '26', '0', '4.5', '0', '1.2.4', '9+', 'Games', '37', '5', '1', '1'], ['10983', '1181633163', 'NORAD Tracks Santa Claus', '52231168', 'USD', '0', '70', '63', '2.5', '2', '1.1', '4+', 'Entertainment', '37', '1', '1', '1'], ['10990', '1181904201', '4x4 Dirt Track Trials Forest Driving Parking Sim', '278811648', 'USD', '0', '1441', '1441', '5', '5', '1.0.1', '4+', 'Games', '37', '5', '1', '1'], ['10998', '1182331762', 'Escape from the frigid Igloo.', '89188352', 'USD', '0', '3', '3', '4', '4', '1.0.1', '4+', 'Games', '38', '5', '1', '1'], ['11002', '1182568288', 'Talking Santa - Video santa claus calls you', '32685056', 'USD', '2.99', '9', '3', '3', '3.5', '1.0.1', '4+', 'Entertainment', '37', '0', '31', '1'], ['11010', '1183234072', 'CTFxCmoji', '26077184', 'USD', '0', '39', '4', '5', '5', '1.3', '9+', 'Social Networking', '37', '1', '1', '1'], ['11013', '1183260922', \"Room Escape Game - Santa's Room\", '143346688', 'USD', '0', '10', '10', '5', '5', '1.0', '4+', 'Games', '40', '0', '1', '1'], ['11016', '1183548754', 'Rescue the Enchanter', '242505728', 'USD', '3.99', '55', '29', '4.5', '4.5', '1.4', '4+', 'Games', '40', '5', '1', '1'], ['11022', '1183856228', 'VR Thrills: Roller Coaster 360 (Google Cardboard)', '169535488', 'USD', '0', '14', '4', '4', '3.5', '1.3.0', '4+', 'Games', '37', '5', '1', '1'], ['11024', '1183986102', 'Santa Kids Hair Salon - Christmas Makeover Games', '64244736', 'USD', '0', '41', '19', '4.5', '4.5', '1.3', '4+', 'Games', '37', '5', '25', '1'], ['11027', '1184711626', 'Human Juggling Cup', '184324096', 'USD', '0', '0', '0', '0', '0', '1.0.1', '4+', 'Games', '40', '4', '1', '1'], ['11031', '1184800011', 'Again - room escape game', '33946624', 'USD', '0', '11', '8', '4', '4', '1.1.0', '4+', 'Games', '37', '5', '1', '1'], ['11033', '1185209084', 'Saloons Unleashed', '327731200', 'USD', '0.99', '0', '0', '0', '0', '1.1', '4+', 'Games', '37', '5', '1', '1'], ['11035', '1185328193', 'Fam — Group video calling for iMessage', '113382400', 'USD', '0', '279', '5', '3.5', '3', '0.6.41', '4+', 'Social Networking', '37', '4', '1', '1'], ['11036', '1185365336', 'Laurie Hernandez the Human Emoji', '94008320', 'USD', '0', '26', '3', '5', '5', '1.0.5', '9+', 'Utilities', '37', '4', '1', '1'], ['11040', '1185538497', 'camera for filter', '9362432', 'USD', '0', '0', '0', '0', '0', '1.0.3', '4+', 'Photo & Video', '37', '0', '1', '1'], ['11041', '1185580782', 'Survivalcraft 2', '57349120', 'USD', '3.99', '292', '292', '4', '4', '2.0.20.1', '9+', 'Games', '40', '5', '1', '1'], ['11051', '1186126548', 'Escape Game: illumination', '52342784', 'USD', '0', '23', '23', '4.5', '4.5', '1.0', '4+', 'Games', '37', '5', '2', '1'], ['11060', '1186384912', 'Demolition Derby Virtual Reality (VR) Racing', '168774656', 'USD', '0', '18', '18', '4', '4', '1.0.0', '12+', 'Games', '38', '4', '1', '1'], ['11077', '1187279979', 'Add-Ons Studio for Minecraft', '22999040', 'USD', '2.99', '97', '97', '3', '3', '1.0', '4+', 'Games', '37', '5', '3', '1'], ['11079', '1187282363', 'Plead the Fifth - The Game', '27853824', 'USD', '2.99', '11', '0', '4', '0', '1.1.1', '17+', 'Games', '37', '0', '1', '1'], ['11081', '1187617475', 'Kubik', '126644224', 'USD', '0', '142', '75', '4.5', '4.5', '1.3', '4+', 'Games', '38', '5', '1', '1'], ['11082', '1187682390', 'VR Roller-Coaster', '120760320', 'USD', '0', '30', '30', '4.5', '4.5', '0.9', '4+', 'Games', '38', '0', '1', '1'], ['11087', '1187779532', 'Bret Michaels Emojis + Lyric Keyboard', '111322112', 'USD', '1.99', '15', '0', '4.5', '0', '1.0.2', '9+', 'Utilities', '37', '1', '1', '1'], ['11089', '1187838770', 'VR Roller Coaster World - Virtual Reality', '97235968', 'USD', '0', '85', '32', '4.5', '4.5', '1.0.15', '12+', 'Games', '38', '0', '2', '1'], ['11097', '1188375727', 'Escape the Sweet Shop Series', '90898432', 'USD', '0', '3', '3', '5', '5', '1.0', '4+', 'Games', '40', '0', '2', '1']]\n"
     ]
    }
   ],
   "source": [
    "ios_clean = []\n",
    "non_english = []\n",
    "\n",
    "for app in ios_part_clean:\n",
    "    name = app[2]\n",
    "    if is_english(name) == True:\n",
    "        ios_clean.append(app)\n",
    "    else:\n",
    "        non_english.append(name)\n",
    "\n",
    "print(ios_clean)"
   ]
  },
  {
   "cell_type": "code",
   "execution_count": 22,
   "metadata": {},
   "outputs": [
    {
     "output_type": "execute_result",
     "data": {
      "text/plain": [
       "['71',\n",
       " '297606951',\n",
       " 'Amazon App: shop, scan, compare, and read reviews',\n",
       " '133688320',\n",
       " 'USD',\n",
       " '0',\n",
       " '126312',\n",
       " '22',\n",
       " '3.5',\n",
       " '3',\n",
       " '9.10.0',\n",
       " '4+',\n",
       " 'Shopping',\n",
       " '37',\n",
       " '5',\n",
       " '8',\n",
       " '1']"
      ]
     },
     "metadata": {},
     "execution_count": 22
    }
   ],
   "source": [
    "ios_clean[60:80][2]"
   ]
  },
  {
   "cell_type": "code",
   "execution_count": 23,
   "metadata": {},
   "outputs": [
    {
     "output_type": "stream",
     "name": "stdout",
     "text": [
      "Number of iOS apps after initial clean: 6181\nNumber of andriod apps after initial clean: 9659\n"
     ]
    }
   ],
   "source": [
    "print(f'Number of iOS apps after initial clean: {len(ios_clean)}')\n",
    "print(f'Number of andriod apps after initial clean: {len(android_clean)}')"
   ]
  },
  {
   "source": [
    "Since the company are only interested in free apps, we must now clean the apps so that only free apps remain. Note that the price of the apps can be found at the 7th and 5th index for android and iOS devices respectively."
   ],
   "cell_type": "markdown",
   "metadata": {}
  },
  {
   "cell_type": "code",
   "execution_count": 24,
   "metadata": {},
   "outputs": [
    {
     "output_type": "stream",
     "name": "stdout",
     "text": [
      "Android ['App', 'Category', 'Rating', 'Reviews', 'Size', 'Installs', 'Type', 'Price', 'Content Rating', 'Genres', 'Last Updated', 'Current Ver', 'Android Ver']\niOS ['', 'id', 'track_name', 'size_bytes', 'currency', 'price', 'rating_count_tot', 'rating_count_ver', 'user_rating', 'user_rating_ver', 'ver', 'cont_rating', 'prime_genre', 'sup_devices.num', 'ipadSc_urls.num', 'lang.num', 'vpp_lic']\n"
     ]
    }
   ],
   "source": [
    "print(\"Android\",android_header)\n",
    "print(\"iOS\", ios_header)"
   ]
  },
  {
   "cell_type": "code",
   "execution_count": null,
   "metadata": {},
   "outputs": [],
   "source": []
  },
  {
   "cell_type": "code",
   "execution_count": 25,
   "metadata": {},
   "outputs": [
    {
     "output_type": "stream",
     "name": "stdout",
     "text": [
      "['U Launcher Lite – FREE Live Cool Themes, Hide Apps', 'ART_AND_DESIGN', '4.7', '87510', '8.7M', '5,000,000+', 'Free', '0', 'Everyone', 'Art & Design', 'August 1, 2018', '1.2.4', '4.0.3 and up']\n['2', '281796108', 'Evernote - stay organized', '158578688', 'USD', '0', '161065', '26', '4', '3.5', '8.2.2', '4+', 'Productivity', '37', '5', '23', '1']\n"
     ]
    }
   ],
   "source": [
    "print(android_clean[1])\n",
    "print(ios_clean[1])"
   ]
  },
  {
   "cell_type": "code",
   "execution_count": 26,
   "metadata": {},
   "outputs": [
    {
     "output_type": "stream",
     "name": "stdout",
     "text": [
      "Android: 8905\niOS: 3220\n"
     ]
    }
   ],
   "source": [
    "android_free = []\n",
    "ios_free = []\n",
    "\n",
    "for app in android_clean:\n",
    "    price = app[7]\n",
    "    if price == '0' or price == '0.00' or price == '0.0':\n",
    "        android_free.append(app)\n",
    "\n",
    "for app in ios_clean:\n",
    "    price = app[5]\n",
    "    if price == '0' or price == '0.00' or price == '0.0':\n",
    "        ios_free.append(app)\n",
    "\n",
    "print(f'Android: {len(android_free)}')\n",
    "print(f'iOS: {len(ios_free)}')"
   ]
  },
  {
   "cell_type": "code",
   "execution_count": 27,
   "metadata": {
    "tags": []
   },
   "outputs": [
    {
     "output_type": "stream",
     "name": "stdout",
     "text": [
      "Android\n1 Title: Kids Learn Languages by Mondly; Price: 0\n2 Title: Blinkist - Nonfiction Books; Price: 0\n3 Title: Sago Mini Hat Maker; Price: $3.99\n4 Title: Fuzzy Numbers: Pre-K Number Foundation; Price: $5.99\n5 Title: Toca Life: Hospital; Price: $3.99\n6 Title: Complete Spanish Movies; Price: 0\n7 Title: Pluto TV - It’s Free TV; Price: 0\n8 Title: Mobile TV; Price: 0\n9 Title: TV+; Price: 0\n10 Title: Digital TV; Price: 0\n\niOS\n1 Title: PAC-MAN Premium; Price: 3.99\n2 Title: Evernote - stay organized; Price: 0\n3 Title: WeatherBug - Local Weather, Radar, Maps, Alerts; Price: 0\n4 Title: eBay: Best App to Buy, Sell, Save! Online Shopping; Price: 0\n5 Title: Bible; Price: 0\n6 Title: Shanghai Mahjong; Price: 0.99\n7 Title: PayPal - Send and request money safely; Price: 0\n8 Title: Pandora - Music & Radio; Price: 0\n9 Title: PCalc - The Best Calculator; Price: 9.99\n10 Title: Ms. PAC-MAN; Price: 3.99\n11 Title: Solitaire by MobilityWare; Price: 4.99\n12 Title: SCRABBLE Premium; Price: 7.99\n13 Title: Google – Search made just for mobile; Price: 0\n14 Title: Bank of America - Mobile Banking; Price: 0\n15 Title: FreeCell; Price: 4.99\n"
     ]
    }
   ],
   "source": [
    "count = 0\n",
    "print('Android')\n",
    "for app in android_clean[625:635]: # Alter for loop through android_free for comparison\n",
    "    count += 1\n",
    "    print(f'{count} Title: {app[0]}; Price: {app[7]}')\n",
    "\n",
    "print('\\niOS')\n",
    "count = 0\n",
    "for app in ios_clean[:15]: # Alter for loop through ios_free for comparison\n",
    "    count += 1\n",
    "    print(f'{app[0]} Title: {app[2]}; Price: {app[5]}')\n"
   ]
  },
  {
   "source": [
    "## Business Strategy\n",
    "\n",
    "If the business wants to develop a particular app which will be most profitable, then it needs to be popular in both the Android and iOS markets. The strategy the business wants to employ is the following:\n",
    "<ol>\n",
    "    <li> Build a minimal Android version of the app, and add it to Google Play.\n",
    "    <li> If the app has a good response from users, we develop it further.\n",
    "    <li> If the app is profitable after six months, we build an iOS version of the app and add it to the App Store.\n",
    "</ol> "
   ],
   "cell_type": "markdown",
   "metadata": {}
  },
  {
   "cell_type": "code",
   "execution_count": 28,
   "metadata": {},
   "outputs": [
    {
     "output_type": "stream",
     "name": "stdout",
     "text": [
      "Android['App', 'Category', 'Rating', 'Reviews', 'Size', 'Installs', 'Type', 'Price', 'Content Rating', 'Genres', 'Last Updated', 'Current Ver', 'Android Ver']\niOS['', 'id', 'track_name', 'size_bytes', 'currency', 'price', 'rating_count_tot', 'rating_count_ver', 'user_rating', 'user_rating_ver', 'ver', 'cont_rating', 'prime_genre', 'sup_devices.num', 'ipadSc_urls.num', 'lang.num', 'vpp_lic']\n"
     ]
    }
   ],
   "source": [
    "print(f'Android{android_header}')\n",
    "print(f'iOS{ios_header}')"
   ]
  },
  {
   "source": [
    "Columns that could be used to determine which categories are popular on <b>android</b>:\n",
    "- Rating\n",
    "- Reviews\n",
    "- Installs\n",
    "- Category\n",
    "- Genre\n",
    "\n",
    "Columns that could be used to determine which categories are popular on <b>iOS</b>:\n",
    "- rating_count_tot\n",
    "- user_rating\n",
    "- prime_genre\n",
    "\n",
    "For this task, we will chose to build a frequency table for the prime_genre column of the App Store and the Genres and Category columns on the Google Play data."
   ],
   "cell_type": "markdown",
   "metadata": {}
  },
  {
   "cell_type": "code",
   "execution_count": 29,
   "metadata": {},
   "outputs": [],
   "source": [
    "def freq_table(dataset, index):\n",
    "    table = {}\n",
    "    total = len(dataset)\n",
    "    for row in dataset:\n",
    "        value = row[index]\n",
    "        if value in table:\n",
    "            table[value] += 1\n",
    "        else:\n",
    "            table[value] = 1\n",
    "\n",
    "    percentage_table = {}\n",
    "    for key in table:\n",
    "        percentage_table[key] = (table[key] / total) * 100\n",
    "\n",
    "    return percentage_table"
   ]
  },
  {
   "cell_type": "code",
   "execution_count": 30,
   "metadata": {},
   "outputs": [],
   "source": [
    "# Table for display frequency tables in a sorted order\n",
    "def display_table(dataset, index):\n",
    "    table = freq_table(dataset, index)\n",
    "    table_display = []\n",
    "    for key in table:\n",
    "        key_val_as_tuple = (table[key], key)\n",
    "        table_display.append(key_val_as_tuple)\n",
    "\n",
    "    table_sorted = sorted(table_display, reverse = True)\n",
    "    for entry in table_sorted:\n",
    "        print(entry[1], ':', entry[0])"
   ]
  },
  {
   "source": [
    "#### iOS App Store\n",
    "The most common genre on the app store is games (58.1%), followed by entertainment (7.8%).  \n",
    "In general, we can assume that \"fun\" apps make up most of the marketplace, whereas practical apps are less common"
   ],
   "cell_type": "markdown",
   "metadata": {}
  },
  {
   "cell_type": "code",
   "execution_count": 31,
   "metadata": {},
   "outputs": [
    {
     "output_type": "stream",
     "name": "stdout",
     "text": [
      "Games : 58.13664596273293\nEntertainment : 7.888198757763975\nPhoto & Video : 4.968944099378882\nEducation : 3.6645962732919255\nSocial Networking : 3.291925465838509\nShopping : 2.608695652173913\nUtilities : 2.515527950310559\nSports : 2.142857142857143\nMusic : 2.049689440993789\nHealth & Fitness : 2.018633540372671\nProductivity : 1.7391304347826086\nLifestyle : 1.5838509316770186\nNews : 1.3354037267080745\nTravel : 1.2422360248447204\nFinance : 1.1180124223602486\nWeather : 0.8695652173913043\nFood & Drink : 0.8074534161490683\nReference : 0.5590062111801243\nBusiness : 0.5279503105590062\nBook : 0.43478260869565216\nNavigation : 0.18633540372670807\nMedical : 0.18633540372670807\nCatalogs : 0.12422360248447205\n"
     ]
    }
   ],
   "source": [
    "display_table(ios_free,-5) # percentage frequency table of ios prime_genre"
   ]
  },
  {
   "source": [
    "#### Google Play Store\n",
    "\n",
    "The most common categories of apps on the Google Play Store is Family (19.0%), followed by Game (9.7%), followed by Tool (8.4%) and then types of at slightly lower percentages.\n",
    "\n",
    "If \"Family\" includes some games aimed at kids, then this is similar to the patterns we saw on the iOS App Store. However, there are definitely a higher proportion of apps aimed at tools and productivity as highlighted by the genres frequency table."
   ],
   "cell_type": "markdown",
   "metadata": {}
  },
  {
   "cell_type": "code",
   "execution_count": 32,
   "metadata": {},
   "outputs": [
    {
     "output_type": "stream",
     "name": "stdout",
     "text": [
      "FAMILY : 18.97810218978102\nGAME : 9.70241437394722\nTOOLS : 8.433464345873105\nBUSINESS : 4.581695676586187\nLIFESTYLE : 3.9303761931499155\nPRODUCTIVITY : 3.885457608085345\nFINANCE : 3.6833239752947784\nMEDICAL : 3.5148792813026386\nSPORTS : 3.3801235261089273\nPERSONALIZATION : 3.312745648512072\nCOMMUNICATION : 3.2341381246490735\nHEALTH_AND_FITNESS : 3.065693430656934\nPHOTOGRAPHY : 2.9421673217293653\nNEWS_AND_MAGAZINES : 2.829870859067939\nSOCIAL : 2.6501965188096577\nTRAVEL_AND_LOCAL : 2.3245367770915215\nSHOPPING : 2.2459292532285233\nBOOKS_AND_REFERENCE : 2.1785513756316677\nDATING : 1.8528916339135317\nVIDEO_PLAYERS : 1.7967434025828188\nMAPS_AND_NAVIGATION : 1.4149354295339696\nFOOD_AND_DRINK : 1.235261089275688\nEDUCATION : 1.167883211678832\nENTERTAINMENT : 0.9545199326221224\nLIBRARIES_AND_DEMO : 0.9320606400898372\nAUTO_AND_VEHICLES : 0.9208309938236946\nHOUSE_AND_HOME : 0.8197641774284109\nWEATHER : 0.7973048848961257\nEVENTS : 0.7074677147669848\nPARENTING : 0.6513194834362718\nART_AND_DESIGN : 0.6513194834362718\nCOMICS : 0.6288601909039866\nBEAUTY : 0.5951712521055587\n"
     ]
    }
   ],
   "source": [
    "display_table(android_free,1) # percentage frequency table of android categories"
   ]
  },
  {
   "cell_type": "code",
   "execution_count": 33,
   "metadata": {},
   "outputs": [
    {
     "output_type": "stream",
     "name": "stdout",
     "text": [
      "Tools : 8.422234699606962\nEntertainment : 6.086468276249298\nEducation : 5.390230207748456\nBusiness : 4.581695676586187\nLifestyle : 3.9191465468837734\nProductivity : 3.885457608085345\nFinance : 3.6833239752947784\nMedical : 3.5148792813026386\nSports : 3.4475014037057834\nPersonalization : 3.312745648512072\nCommunication : 3.2341381246490735\nAction : 3.0881527231892196\nHealth & Fitness : 3.065693430656934\nPhotography : 2.9421673217293653\nNews & Magazines : 2.829870859067939\nSocial : 2.6501965188096577\nTravel & Local : 2.313307130825379\nShopping : 2.2459292532285233\nBooks & Reference : 2.1785513756316677\nSimulation : 2.0662549129702414\nDating : 1.8528916339135317\nArcade : 1.8416619876473892\nVideo Players & Editors : 1.7742841100505335\nCasual : 1.7518248175182483\nMaps & Navigation : 1.4149354295339696\nFood & Drink : 1.235261089275688\nPuzzle : 1.1229646266142617\nRacing : 0.9882088714205502\nRole Playing : 0.9320606400898372\nLibraries & Demo : 0.9320606400898372\nStrategy : 0.9208309938236946\nAuto & Vehicles : 0.9208309938236946\nHouse & Home : 0.8197641774284109\nWeather : 0.7973048848961257\nEvents : 0.7074677147669848\nAdventure : 0.6850084222346996\nComics : 0.617630544637844\nArt & Design : 0.6064008983717013\nBeauty : 0.5951712521055587\nParenting : 0.4941044357102751\nCard : 0.4491858506457047\nTrivia : 0.4267265581134195\nCasino : 0.4267265581134195\nEducational;Education : 0.39303761931499154\nBoard : 0.38180797304884895\nEducational : 0.3705783267827063\nEducation;Education : 0.3481190342504211\nWord : 0.2582818641212802\nCasual;Pretend Play : 0.23582257158899494\nMusic : 0.2021336327905671\nRacing;Action & Adventure : 0.16844469399213924\nPuzzle;Brain Games : 0.16844469399213924\nEntertainment;Music & Video : 0.16844469399213924\nCasual;Brain Games : 0.13475575519371139\nCasual;Action & Adventure : 0.13475575519371139\nArcade;Action & Adventure : 0.12352610892756878\nAction;Action & Adventure : 0.10106681639528355\nEducational;Pretend Play : 0.08983717012914093\nSimulation;Action & Adventure : 0.07860752386299832\nParenting;Education : 0.07860752386299832\nEntertainment;Brain Games : 0.07860752386299832\nBoard;Brain Games : 0.07860752386299832\nParenting;Music & Video : 0.06737787759685569\nEducational;Brain Games : 0.06737787759685569\nCasual;Creativity : 0.06737787759685569\nArt & Design;Creativity : 0.06737787759685569\nEducation;Pretend Play : 0.05614823133071309\nRole Playing;Pretend Play : 0.044918585064570464\nEducation;Creativity : 0.044918585064570464\nRole Playing;Action & Adventure : 0.033688938798427846\nPuzzle;Action & Adventure : 0.033688938798427846\nEntertainment;Creativity : 0.033688938798427846\nEntertainment;Action & Adventure : 0.033688938798427846\nEducational;Creativity : 0.033688938798427846\nEducational;Action & Adventure : 0.033688938798427846\nEducation;Music & Video : 0.033688938798427846\nEducation;Brain Games : 0.033688938798427846\nEducation;Action & Adventure : 0.033688938798427846\nAdventure;Action & Adventure : 0.033688938798427846\nVideo Players & Editors;Music & Video : 0.022459292532285232\nSports;Action & Adventure : 0.022459292532285232\nSimulation;Pretend Play : 0.022459292532285232\nPuzzle;Creativity : 0.022459292532285232\nMusic;Music & Video : 0.022459292532285232\nEntertainment;Pretend Play : 0.022459292532285232\nCasual;Education : 0.022459292532285232\nBoard;Action & Adventure : 0.022459292532285232\nVideo Players & Editors;Creativity : 0.011229646266142616\nTrivia;Education : 0.011229646266142616\nTravel & Local;Action & Adventure : 0.011229646266142616\nTools;Education : 0.011229646266142616\nStrategy;Education : 0.011229646266142616\nStrategy;Creativity : 0.011229646266142616\nStrategy;Action & Adventure : 0.011229646266142616\nSimulation;Education : 0.011229646266142616\nRole Playing;Brain Games : 0.011229646266142616\nRacing;Pretend Play : 0.011229646266142616\nPuzzle;Education : 0.011229646266142616\nParenting;Brain Games : 0.011229646266142616\nMusic & Audio;Music & Video : 0.011229646266142616\nLifestyle;Pretend Play : 0.011229646266142616\nLifestyle;Education : 0.011229646266142616\nHealth & Fitness;Education : 0.011229646266142616\nHealth & Fitness;Action & Adventure : 0.011229646266142616\nEntertainment;Education : 0.011229646266142616\nCommunication;Creativity : 0.011229646266142616\nComics;Creativity : 0.011229646266142616\nCasual;Music & Video : 0.011229646266142616\nCard;Action & Adventure : 0.011229646266142616\nBooks & Reference;Education : 0.011229646266142616\nArt & Design;Pretend Play : 0.011229646266142616\nArt & Design;Action & Adventure : 0.011229646266142616\nArcade;Pretend Play : 0.011229646266142616\nAdventure;Education : 0.011229646266142616\n"
     ]
    }
   ],
   "source": [
    "display_table(android_free,-4) # percentage frequency table of android genres"
   ]
  },
  {
   "source": [
    "#### Takeaways\n",
    "\n",
    "iOS App Store dominated by apps which are fun, whereas the Google Play Store has a more even balance between fun and practical apps when it comes to the make-up of available apps.\n",
    "\n",
    "Clearly, the frequency of apps available only tells one part of the story. It tells us the make-up of the app store, but not how many users each app has.\n",
    "\n",
    "## Most Popular Apps\n",
    "\n",
    "One way to find out what genres are the most popular (have the most users) is to calculate the average number of installs for each app genre. For the Google Play data set, we can find this information in the Installs column, but this information is missing for the App Store data set. As a workaround, we'll take the total number of user ratings as a proxy, which we can find in the rating_count_column app.\n",
    "\n",
    "### iOS App Store"
   ],
   "cell_type": "markdown",
   "metadata": {}
  },
  {
   "cell_type": "code",
   "execution_count": 34,
   "metadata": {},
   "outputs": [
    {
     "output_type": "stream",
     "name": "stdout",
     "text": [
      "Productivity : 21028.410714285714\nWeather : 52279.892857142855\nShopping : 26919.690476190477\nReference : 74942.11111111111\nFinance : 31467.944444444445\nMusic : 57326.530303030304\nUtilities : 18684.456790123455\nTravel : 28243.8\nSocial Networking : 71548.34905660378\nSports : 23008.898550724636\nHealth & Fitness : 23298.015384615384\nGames : 22812.92467948718\nFood & Drink : 33333.92307692308\nNews : 21248.023255813954\nBook : 39758.5\nPhoto & Video : 28441.54375\nEntertainment : 14029.830708661417\nBusiness : 7491.117647058823\nLifestyle : 16485.764705882353\nEducation : 7003.983050847458\nNavigation : 86090.33333333333\nMedical : 612.0\nCatalogs : 4004.0\n"
     ]
    }
   ],
   "source": [
    "ios_genres = freq_table(ios_free,-5) # frequency table of prime_genre in the ios dataset\n",
    "\n",
    "for genre in ios_genres:\n",
    "    total = 0 # total number of rating given to apps with that genre\n",
    "    len_genre = 0\n",
    "    for app in ios_free:\n",
    "        genre_app = app[-5]\n",
    "        if genre_app == genre:\n",
    "            total += float(app[6]) # the rating_count_tot column\n",
    "            len_genre += 1\n",
    "    \n",
    "    avg_num_ratings = total / len_genre\n",
    "\n",
    "    print(genre, ':', avg_num_ratings)"
   ]
  },
  {
   "source": [
    "Navigation has the highest number of ratings in the iOS App Store."
   ],
   "cell_type": "markdown",
   "metadata": {}
  },
  {
   "cell_type": "code",
   "execution_count": 35,
   "metadata": {},
   "outputs": [
    {
     "output_type": "stream",
     "name": "stdout",
     "text": [
      "Waze - GPS Navigation, Maps & Real-time Traffic : 345046\nGeocaching® : 12811\nImmobilienScout24: Real Estate Search in Germany : 187\nRailway Route Search : 5\nCoPilot GPS – Car Navigation & Offline Maps : 3582\nGoogle Maps - Navigation & Transit : 154911\n"
     ]
    }
   ],
   "source": [
    "for app in ios_free:\n",
    "    if app[-5] == 'Navigation':\n",
    "        print(app[2],':', app[6])"
   ]
  },
  {
   "cell_type": "code",
   "execution_count": 36,
   "metadata": {},
   "outputs": [
    {
     "output_type": "stream",
     "name": "stdout",
     "text": [
      "Facebook : 2974676\nLinkedIn : 71856\nSkype for iPhone : 373519\nTumblr : 334293\nMatch™ - #1 Dating App. : 60659\nWhatsApp Messenger : 287589\nTextNow - Unlimited Text + Calls : 164963\nGrindr - Gay and same sex guys chat, meet and date : 23201\nimo video calls and chat : 18841\nAmeba : 269\nWeibo : 7265\nBadoo - Meet New People, Chat, Socialize. : 34428\nKik : 260965\nQzone : 1649\nFake-A-Location Free ™ : 354\nTango - Free Video Call, Voice and Chat : 75412\nMeetMe - Chat and Meet New People : 97072\nSimSimi : 23530\nViber Messenger – Text & Call : 164249\nFind My Family, Friends & iPhone - Life360 Locator : 43877\nWeibo HD : 16772\nPOF - Best Dating App for Conversations : 52642\nGroupMe : 28260\nLobi : 36\nWeChat : 34584\nooVoo – Free Video Call, Text and Voice : 177501\nPinterest : 1061624\n知乎 : 397\nQzone HD : 458\nSkype for iPad : 60163\nLINE : 11437\nQQ : 9109\nLOVOO - Dating Chat : 1985\nQQ HD : 5058\nMessenger : 351466\neHarmony™ Dating App - Meet Singles : 11124\nYouNow: Live Stream Video Chat : 12079\nCougar Dating & Life Style App for Mature Women : 213\nBattlefield™ Companion : 689\nWhisper - Share, Express, Meet : 39819\nWe Heart It - Fashion, wallpapers, quotes, tattoos : 90414\nFollowers - Social Analytics For Instagram : 112778\nInsTrack for Instagram - Analytics Plus More : 85535\nFollowers + for Instagram - Follower Analytics : 28633\nTimehop : 49510\nRepost for Instagram : 15185\nLINE PLAY - Your Avatar World : 34677\nNextdoor : 14402\nHangouts : 36404\nFollowMeter for Instagram - Followers Tracking : 11976\nTelegram Messenger : 7573\nChatous - Chat with new people : 1609\nQQ International : 274\nFireChat : 1037\nJodel : 1193\nWishbone - Compare Anything : 20649\nZenly - Locate your friends in realtime : 427\nTantan : 235\nFlinch - Video Chat Staring Contest : 2134\nbotman - Real time video chat : 7\n豆瓣 : 407\nMarco Polo Video Walkie Talkie : 27662\nAfter School - Funny Anonymous School News : 18482\nHighrise - Your Avatar Community : 2011\nQuick Reposter - Repost, Regram and Reshare Photos : 17694\nKiwi - Q&A : 1538\nPeriscope - Live Video Streaming Around the World : 6062\nInke—Broadcast an amazing life : 147\nDiscord - Chat for Gamers : 9152\nCandid - Speak Your Mind Freely : 398\nDown To Lunch : 2535\nSOMA Messenger : 3232\nRawr Messenger - Dab your chat : 180\nPopcorn Buzz - Free Group Calls : 281\nChain: Collaborate On MyVideo Story/Group Video : 35\nBestieBox : 0\nSelfeo : 366\nFollowers Analysis Tool For Instagram App Free : 4253\nHey! VINA - Where Women Meet New Friends : 719\nPlayStation®Messages : 1918\nWhenToPost: Best Time to Post Photos for Instagram : 158\nMATCH ON LINE chat : 0\nFiesta by Tango - Chat & Meet New People : 885\nHouseparty - Group Video Chat : 3991\nAll Devices for WhatsApp - Messenger for iPad : 682\nPeach — share vividly : 727\nbit-tube - Live Stream Video Chat : 0\nMiitomo : 23965\nSoundCloud Pulse: for creators : 240\nIAmNaughty – Dating App to Meet New People Online : 463\nLeague of Legends Friends : 420\nGhostCodes - a discovery app for Snapchat : 1313\nlive.ly - live video streaming : 4145\nLive.me – Live Video Chat & Make Friends Nearby : 14724\nBOO! - Video chat camera with filters & stickers : 1805\nGoogle Allo — smart messaging : 862\nGoogle Duo - simple video calling : 1033\nChat for Whatsapp - iPad Version : 5060\nChat for Pokemon Go - GoChat : 500\nniconico ch : 0\nFollowers Analytics for Instagram - InstaReport : 13914\nMonkey : 3060\nLINE BLOG : 0\nMustknow - anonymous video Q&A : 53\nCTFxCmoji : 39\nFam — Group video calling for iMessage : 279\n"
     ]
    }
   ],
   "source": [
    "for app in ios_free:\n",
    "    if app[-5] == 'Social Networking':\n",
    "        print(app[2],':', app[6])"
   ]
  },
  {
   "cell_type": "code",
   "execution_count": 37,
   "metadata": {},
   "outputs": [
    {
     "output_type": "stream",
     "name": "stdout",
     "text": [
      "Pandora - Music & Radio : 1126879\nShazam - Discover music, artists, videos & lyrics : 402925\niHeartRadio – Free Music & Radio Stations : 293228\nDeezer - Listen to your Favorite Music & Playlists : 4677\nSonos Controller : 48905\nNRJ Radio : 38\nradio.de - Der Radioplayer : 64\nSpotify Music : 878563\nSoundCloud - Music & Audio : 135744\nSing Karaoke Songs Unlimited with StarMaker : 26227\nSoundHound Song Search & Music Player : 82602\nRingtones for iPhone & Ringtone Maker : 25403\nCoach Guitar - Lessons & Easy Tabs For Beginners : 2416\nTuneIn Radio - MLB NBA Audiobooks Podcasts Music : 110420\nMagic Piano by Smule : 131695\nQQ音乐HD : 224\nThe Singing Machine Mobile Karaoke App : 130\nBandsintown Concerts : 30845\nPetitLyrics : 0\nedjing Mix:DJ turntable to remix and scratch music : 13580\nSmule Sing! : 119316\nAmazon Music : 106235\nAutoRap by Smule : 18202\nMy Mixtapez Music : 26286\nCertified Mixtapes - Hip Hop Albums & Mixtapes : 9975\nKaraoke - Sing Karaoke, Unlimited Songs! : 28606\nNapster - Top Music & Radio : 14268\nMusi - Unlimited Music For YouTube : 25193\nUE BOOM : 612\nSpinrilla - Mixtapes For Free : 15053\nGoogle Play Music : 10118\nPiano - Play Keyboard Music Games with Magic Tiles : 1636\nBose SoundTouch : 3687\nDatPiff : 2815\nSounds app - Music And Friends : 5126\nSmart Music: Streaming Videos and Radio : 17\nFree Piano app by Yokee : 13016\nSimple Radio - Live AM & FM Radio Stations : 4787\nTrebel Music - Unlimited Music Downloader : 2570\nTIDAL : 7398\nAcapella from PicPlayPost : 2487\nMedly - Music Maker : 933\nAmazon Alexa : 3018\nMusic Freedom - Unlimited Free MP3 Music Streaming : 1246\nPlayGround • Music At Your Fingertips : 150\nMusical Video Maker - Create Music clips lip sync : 320\nFree Music Play - Mp3 Streamer & Player : 2496\nLiveMixtapes : 555\nAmpMe - A Portable Social Party Music Speaker : 1047\nNOISE : 355\nYouTube Music : 7109\nRingtones for iPhone with Ringtone Maker : 4013\nMusic Memos : 909\nMusicloud - MP3 and FLAC Music Player for Cloud Platforms. : 2211\nBose Connect : 915\nCloud Music Player - Downloader & Playlist Manager : 319\nRemixlive - Remix loops with pads : 288\nFree Music -  Player & Streamer  for Dropbox, OneDrive & Google Drive : 46\nBoom: Best Equalizer & Magical Surround Sound : 1375\nMP3 Music Player & Streamer for Clouds : 329\nNicki Minaj: The Empire : 5196\nSongFlip - Free Music Streamer : 5004\nBlocs Wave - Make & Record Music : 158\nMusic and Chill : 135\nFree Music - MP3 Streamer & Playlist Manager Pro : 13443\nBOSS Tuner : 13\n"
     ]
    }
   ],
   "source": [
    "for app in ios_free:\n",
    "    if app[-5] == 'Music':\n",
    "        print(app[2],':', app[6])"
   ]
  },
  {
   "cell_type": "code",
   "execution_count": 38,
   "metadata": {},
   "outputs": [
    {
     "output_type": "stream",
     "name": "stdout",
     "text": [
      "WeatherBug - Local Weather, Radar, Maps, Alerts : 188583\nThe Weather Channel: Forecast, Radar & Alerts : 495626\nAccuWeather - Weather for Life : 144214\nMyRadar NOAA Weather Radar Forecast : 150158\nThe Weather Channel App for iPad – best local forecast, radar map, and storm tracking : 208648\nMétéo-France : 24\nYurekuru Call : 53\nQuakeFeed Earthquake Map, Alerts, and News : 6081\nMoji Weather - Free Weather Forecast : 2333\nFEMA : 128\nWeather Underground: Custom Forecast & Local Radar : 49192\nJaxReady : 22\nHurricane Tracker WESH 2 Orlando, Central Florida : 203\nHurricane by American Red Cross : 1158\nWeather & Radar : 37\nWRAL Weather Alert : 25\nYahoo Weather : 112603\nWeather Live Free - Weather Forecast & Alerts : 35702\nNOAA Weather Radar - Weather Forecast & HD Radar : 45696\niWeather - World weather forecast : 80\nAlmanac Long-Range Weather Forecast : 12\nTodayAir : 0\nWeather - Radar - Storm with Morecast App : 78\nStorm Radar : 22792\nWarnWetter : 0\nwetter.com : 0\nForecast Bar : 375\nFreddy the Frogcaster's Weather Station : 14\n"
     ]
    }
   ],
   "source": [
    "for app in ios_free:\n",
    "    if app[-5] == 'Weather':\n",
    "        print(app[2],':', app[6])"
   ]
  },
  {
   "cell_type": "code",
   "execution_count": 39,
   "metadata": {
    "tags": [
     "outputPrepend"
    ]
   },
   "outputs": [
    {
     "output_type": "stream",
     "name": "stdout",
     "text": [
      "witch : 1405\n",
      "Flappy Bird : original version ! : 516\n",
      "Fireboy and Watergirl: Online in the Forest Temple - Multiplayer Running and Adventure Game : 3965\n",
      "Twisty Arrow - Shoot the Circle Wheel : 4440\n",
      "Puzzle Monster Quest - New MultiPlayer : 894\n",
      "Ball Escape! : 48\n",
      "Loop Mania : 534\n",
      "Independence Day Resurgence: Battle Heroes : 523\n",
      "VR HORROR : 241\n",
      "Plummet Dash : 194\n",
      "KINGDOM HEARTS Union χ[Cross] : 2984\n",
      "Dancing with the Stars: The Official Game : 1098\n",
      "High School Crush - My First Love : 2003\n",
      "LEGO® DC Super Heroes Mighty Micros : 172\n",
      "Snakebird : 401\n",
      "Move the Match - Matchstick Puzzles for Free : 441\n",
      "Sloomy : 241\n",
      "Warp Shift : 1178\n",
      "Sausage Legend - Fighting Game : 90\n",
      "Brio - Don’t Fall! : 56\n",
      "Ridiculous Parking Simulator a Real Crazy Multi Car Driving Racing Game : 43\n",
      "Tap Hero : 1444\n",
      "War Tortoise : 10555\n",
      "Emoji Blitz : 999\n",
      "Dash Heroes : 2\n",
      "Batman v Superman: Who Will Win : 314\n",
      "Disco Dave : 444\n",
      "Blair's Fashion Boutique - School Style : 299\n",
      "Puppy Life - Secret Pet Party : 343\n",
      "Escape Game: Relief : 49\n",
      "Monster Raid™ : 116\n",
      "Buddyman Run － keep running! : 762\n",
      "Stickman Cubed : 47\n",
      "Rising Warriors: War Games - The New Order : 541\n",
      "Vintage Slots Las Vegas - Old Slot Machine Games! : 1474\n",
      "Skippy Box : 130\n",
      "Hexavoid : 386\n",
      "Go Surf - The Endless Wave Runner : 68\n",
      "Restaurant DASH with Gordon Ramsay : 21804\n",
      "Escape Alice House2 : 8\n",
      "Super Slime Blitz – Gumball Endless Arcade Climber : 668\n",
      "Talking Tom Gold Run: Fun & Endless Running Game : 18733\n",
      "Levels - Addictive Puzzle Game : 7\n",
      "NumberQ : 0\n",
      "Tap Tap Trillionaire : 1595\n",
      "Steve - The Jumping Dinosaur Widget Arcade Game : 7751\n",
      "Versus - Multiplayer Game (2 players) : 1\n",
      "TohTum : 110\n",
      "Ball Tower : 67\n",
      "Lewandowski: Football Star : 385\n",
      "Hair Fashion™ - Girls Makeup, Dressup and Makeover Games : 197\n",
      "Wonderball - One Touch Endless Ball Arcade Action : 180\n",
      "Fill - one-line puzzle game : 15\n",
      "Behind You!! : 40\n",
      "My Boo Town - Create your own Village of Boos : 1829\n",
      "OctoPie - a Game Shakers App : 374\n",
      "Aeronaut : 15\n",
      "slither.io : 107817\n",
      "MOBIUS FINAL FANTASY : 3640\n",
      "Princess Pet Palace: Royal Pony - Pet Care, Play & Dress Up : 74\n",
      "Kids Play Club - Fun Games & Activities : 73\n",
      "Play-Doh TOUCH - Shape, Scan, Explore : 126\n",
      "Back To Square One : 310\n",
      "Puzzle Game for Brain Training -KITINTO- : 0\n",
      "real happy majiang-all stars majiang,mahjong : 0\n",
      "Pixelgrams: Pixel Puzzles : 156\n",
      "Monster Super League : 10368\n",
      "Monster Girls Creator Catch em for Pokémon fans : 2374\n",
      "Flying Car Driving Simulator Free: Extreme Muscle Car - Airplane Flight Pilot : 1882\n",
      "Soccer Hit : 309\n",
      "Eyes Cube : 69\n",
      "Dice Mania - Play Free Online Classic Board Game with Friends : 20\n",
      "PewDiePie's Tuber Simulator : 90851\n",
      "TRUMP'S WALL - Build it Huge : 1278\n",
      "Sugar Slide: The Path Home : 365\n",
      "Through The Fog! : 216\n",
      "Escape from the wedding hall. : 9\n",
      "Girls PJ Party - Dress Up, Spa & Fun : 621\n",
      "Extreme Heavy Trucker Parking Simulator : 44\n",
      "Impossible Goal 3D : 0\n",
      "Quiz Tales : 129\n",
      "Pony Princess Academy - Dress Up, Style, Feed & Care for Ponies Game : 168\n",
      "Dream Diary - My Life, My Adventure! : 390\n",
      "Baby Twins - Terrible Two : 710\n",
      "Daddy's Little Helper - Messy Home Adventure : 270\n",
      "Candy Makeup - Sweet Salon Game for Girls : 575\n",
      "Candy's Carnival : 86\n",
      "Steppy Pants : 12506\n",
      "Kungfu Street-Ultimate Fight : 0\n",
      "It's a Space Thing : 145\n",
      "Pokémon GO : 257627\n",
      "Flappy Hoopers: The Shooting Basketball Players : 216\n",
      "Championship Manager 17 : 154\n",
      "FIFA Mobile Soccer : 15365\n",
      "Hoverboard Simulator - Night Drive : 360\n",
      "Roof Jumping 3 Stunt Driver Parking Simulator an Extreme Real Car Racing Game : 88\n",
      "Survivor: Prologue : 2\n",
      "Crazy Love Story - Wedding Dreams : 337\n",
      "Make7! Hexa Puzzle : 3336\n",
      "Block! Hexa Puzzle : 28524\n",
      "秒速 : 0\n",
      "Rio 2016 Olympic Games : 1850\n",
      "Ninja Dude vs Zombies - endless tap 'n' slash zombie arcade game : 104\n",
      "Go Pug Go : 184\n",
      "Princess Libby's Perfect Beach Day : 98\n",
      "Coin Dozer: Casino : 2024\n",
      "Battleborn® Tap : 1974\n",
      "Steps! - Hardest Action Game Ever! : 13\n",
      "Fish Mania™ : 6038\n",
      "Tap Tap Builder : 999\n",
      "Slots: Hot Vegas Slot Machines - Free Slot Games : 3938\n",
      "Trump On The Run : 2025\n",
      "Beyond 14 : 426\n",
      "Basketball Free Throw : 24\n",
      "Tina's Diary: Spring Outing : 134\n",
      "Diced - A Simple Puzzle Dice Game : 53\n",
      "Clash of Queens: Dragons Rise : 820\n",
      "Fancy Cakes - Endless Tasty Puzzle : 147\n",
      "Mad City Gangs: Nice City : 294\n",
      "Juggernaut Champions : 1193\n",
      "Sweet Princess Makeup Party - Girls Dressup Games : 109\n",
      "50 50 - The Addictive Slicing Game : 2998\n",
      "Raccoon Pizza Rush : 69\n",
      "Flying Police Car Driving Simulator Free: Criminal Craft Chase : 422\n",
      "Trolls: Crazy Party Forest! : 1260\n",
      "VR Flight Simulator for Google Cardboard : 180\n",
      "Mahjong Treasure Quest : 6557\n",
      "Jumpy Tree : 160\n",
      "Iron Maiden: Legacy of the Beast : 2152\n",
      "Princess Swimming & Spa - Girls Beauty Game FREE : 21\n",
      "Slots Real Las Vegas - Free Casino Slot Machine Games - Bet, Spin and Win Jackpot & Bonus : 115\n",
      "Sports Hero : 343\n",
      "Color Dotz : 326\n",
      "Tap Smiths : 5112\n",
      "Mahjong Solitaire Star! Your Favorite Game! : 2731\n",
      "Alternative Girls : 29\n",
      "Dropple : 243\n",
      "Magic Legion - Age of Heroes : 517\n",
      "He-Man™ Tappers of Grayskull™ : 2190\n",
      "のび毛 : 0\n",
      "Trailer Truck Parking with Real City Traffic Car Driving Sim : 173\n",
      "Dots & Co: A New Puzzle Adventure : 10693\n",
      "Jigsaw Puzzle for Brain Training -PITATOY- : 0\n",
      "Solitaire ∞ : 2865\n",
      "Bud Farm: Grass Roots : 6523\n",
      "My Majesty : 140\n",
      "Police Sniper Prison Guard : 349\n",
      "Billiards8 (8 Ball & Mission) : 0\n",
      "Catch the Bus : 10\n",
      "Worm.is: The Game : 1433\n",
      "Snake Slither Run - Hungry Worm Eat Color Dot : 9034\n",
      "Brake or Break : 5\n",
      "Las Vegas Valet Limo and Sports Car Parking : 220\n",
      "Escape from the Art Gallery. : 7\n",
      "Winter Fugitives 2: Chronicles : 111\n",
      "PAC-MAN Pop : 1000\n",
      "Red Bull Air Race 2 : 104\n",
      "FURBY CONNECT World : 422\n",
      "Delicious - Emily’s Message in a Bottle : 333\n",
      "Slip Away : 1102\n",
      "Microsoft Solitaire Collection : 2432\n",
      "Stickninja Smash : 67\n",
      "Perfect Fit : 53\n",
      "Coach Bus Simulator : 1621\n",
      "Fantastic Beasts™: Cases : 1896\n",
      "Stick Soccer 2 : 22\n",
      "UNCHARTED: Fortune Hunter™ : 411\n",
      "Snakeio : 13870\n",
      "Gate Keepers : 41\n",
      "Tetminos - Classic Puzzle Game : 0\n",
      "Obstacle Course Extreme Car Parking Simulator : 153\n",
      "Game Switch : 363\n",
      "Escape Game: Forgotten : 55\n",
      "Joan Mad Run : 605\n",
      "Spinny Phone : 339\n",
      "Tinker Island: Survival Adventure : 6686\n",
      "Dashy Box : 41\n",
      "WordWhizzle Search : 49635\n",
      "Gardenscapes - New Acres : 45227\n",
      "Stickman Soccer 2016 : 473\n",
      "Splashy Cats: Endless Zigzag Arcade Water Game : 450\n",
      "Pocket Politics : 2748\n",
      "LEGO® Star Wars™: The Force Awakens : 3207\n",
      "Cube Roll : 22\n",
      "Warcher Defenders : 39\n",
      "Go Up : 456\n",
      "Tip Tap Soccer : 29\n",
      "YouTurbo : 136\n",
      "Bonecrusher: Free Awesome Endless Skull & Bone Game : 233\n",
      "NeoWars : 267\n",
      "Bullet Hell Monday : 1296\n",
      "Bouncy Tower : 213\n",
      "Chef's Quest : 225\n",
      "Rise! : 18\n",
      "Trump Hoverboard Sim - Mannequin Race Challenge : 68\n",
      "Zombies Chasing Me : 43\n",
      "Symmetrica - Minimalistic arcade game : 200\n",
      "PinOut! : 5003\n",
      "Escape from the grandma house in the countryside. : 5\n",
      "Running Man Challenge - Game : 1360\n",
      "HIT - Heroes of Incredible Tales : 1765\n",
      "Mars: Mars : 6116\n",
      "Craft Royale: Clash of Pixels : 2285\n",
      "Respeck on my Name : 155\n",
      "Really Bad Chess : 1015\n",
      "Flip Heroes : 32\n",
      "Polyforge : 1744\n",
      "MOBA Legends : 1815\n",
      "Risky Rooms : 10\n",
      "Dunkers : 1495\n",
      "Being SalMan: The Official Game : 33\n",
      "Ketchapp Basketball : 5833\n",
      "Kubo: A Samurai Quest ™ - Match, Collect, Battle! : 668\n",
      "Head Soccer France 2016 : 135\n",
      "Geometry Dash World : 5114\n",
      "Burnout City : 82\n",
      "Smelly Baby - Farty Party : 32\n",
      "SBK16 - Official Mobile Game : 249\n",
      "Rival Stars College Football : 1132\n",
      "Doggy Box : 360\n",
      "Aussie Rules Hero - Footy Goal Kicking Game : 12\n",
      "TIME LOCKER - Shooter : 627\n",
      "3D Dubai Parking Simulator Drive Real Extreme Super Sports Car : 166\n",
      "diep.io : 9397\n",
      "Blade Sliders : 136\n",
      "Limite Limite : 0\n",
      "RedStory - Little Red Riding Hood : 185\n",
      "Triennale Game Collection : 56\n",
      "Smart Matches ~ Puzzles with Matchsticks : 1\n",
      "Fight List : 4702\n",
      "Hand of God - Top Clicker & Tap Games : 5141\n",
      "Slots: VIP Deluxe Slots Machines - Free Slot Games : 2732\n",
      "Mystic Messenger : 6754\n",
      "Fancy Cats : 966\n",
      "Tankio - Battle Arena : 4513\n",
      "Glitch Fixers - The Powerpuff Girls : 89\n",
      "Slots: Get Rich Slot Machines Casino Slot Games : 1168\n",
      "Football Heroes PRO 2017 - featuring NFL Players : 691\n",
      "Hoverboard Simulator - Endless Hover Board Race : 203\n",
      "Can You Dab? : 2601\n",
      "VR-Crazy Car Traffic Racing : 10\n",
      "Shopping Mall Girl - Dress Up & Style Game : 2332\n",
      "Piggy Show : 53\n",
      "Tank War - Geometry Go Shot Color Dot.IO : 24760\n",
      "Eden: The Game - Build Your Village! : 823\n",
      "Diamond Story: Jewelry Quest : 683\n",
      "LEGO® City My City 2 : 424\n",
      "Steps : 361\n",
      "Endless Ducker : 639\n",
      "Rhinbo - Endless Runner Game : 391\n",
      "Shopkins: Chef Club : 2881\n",
      "ENYO : 163\n",
      "Wordalot – Picture Crossword : 3383\n",
      "Bowmasters - Top Multiplayer Bowman Archery Game : 159323\n",
      "Stop Curry : 250\n",
      "Lollipop: Sweet Taste Match3 : 2861\n",
      "Burger Jump : 145\n",
      "Fun Run Arena - Online Multiplayer Running Game : 4116\n",
      "Talented Pets Show : 108\n",
      "Fantasy Football Coach : 29\n",
      "Virtual Reality Moon for Google Cardboard VR : 109\n",
      "Chick Go & Climb : 10\n",
      "Auralux: Constellations : 2354\n",
      "PolitiCats: Awesome Clicker Game : 2938\n",
      "Escape from the music room in the school. : 1\n",
      "Water Bottle Flip AK 2016 : 93\n",
      "Redungeon : 1821\n",
      "NARUTO SHIPPUDEN: Ultimate Ninja Blazing : 6426\n",
      "MARVEL Tsum Tsum : 838\n",
      "Athlete Shave Salon Games : 3815\n",
      "Tap Titans 2 : 9122\n",
      "Cubicle. : 38\n",
      "Blocky Racer - Endless Arcade Racing : 1122\n",
      "Cafe Story - Play Cooking & Farming Game : 1498\n",
      "Zap Zombies : 145\n",
      "Buffalo Slots - Royal Casino Fun Slot Machines! : 3153\n",
      "ブリ猫 : 0\n",
      "Soccer Cup Championship 2016 : 2\n",
      "Zombie Town Story : 22\n",
      "Chef Siblings - Island Restaurant : 56\n",
      "Soccer Stadium Sports Car & Bus Parking Simulator 3D Driving Sim : 126\n",
      "Archery King : 8905\n",
      "Virtual Reality Roller Coaster for Google Cardboard VR : 77\n",
      "Multi Level Car Parking 5 a Real Airport Driving Test Simulator : 365\n",
      "Angry Birds Blast : 24878\n",
      "Make More! : 5134\n",
      "Light On : 191\n",
      "Duck Roll : 154\n",
      "WIND runner adventure : 253\n",
      "Javelin Masters 3 : 430\n",
      "Fish Fist : 146\n",
      "Suicide Squad: Special Ops : 6551\n",
      "Crazy Circle : 98\n",
      "NeverKnew - Game night is back : 25\n",
      "Tank.io war - Free Classic Tank games : 3219\n",
      "Ketchapp Soccer : 339\n",
      "Arcane Online - Fantasy MMORPG : 285\n",
      "Magic Nightfall : 164\n",
      "Magic Mansion : 255\n",
      "Is-it Love ? Ryan (Visual Novel) : 539\n",
      "Cube Skip : 298\n",
      "High 5 Vegas - Hit Slots Casino : 541\n",
      "EXORUN : 234\n",
      "Amusement Park Tour : 506\n",
      "Switchy Sides : 109\n",
      "Princess Face Paint - Girls Makeup, Dressup and Makeover Games : 45\n",
      "Nukleus : 210\n",
      "Babysitter Craziness - Fun Kids Game : 169\n",
      "All Star Quarterback 17 - Football Lifestyle Sim : 521\n",
      "Tina's Diary - Star Fever : 139\n",
      "Rolly Worms : 135\n",
      "Frantic Ball : 1\n",
      "Tank.IO War - Free Tank games of snake : 9259\n",
      "Color Bots : 164\n",
      "VR Crazy Bike Race: Traffic Racing Free : 29\n",
      "Dice Crush : 7\n",
      "Cubway : 58\n",
      "Amusement Park Fair Ground Circus Trucker Parking Simulator : 81\n",
      "Rogue Ninja : 99\n",
      "Escape the Cake Café : 7\n",
      "Roller Coaster Simulator - Draw and Simulate! : 7\n",
      "REVERSI ZERO - free classic game : 0\n",
      "Z Buster : 301\n",
      "Dictator: Emergence : 567\n",
      "Rings. : 538\n",
      "The Counter Of Death : 719\n",
      "Coin Dozer: Haunted : 704\n",
      "Super Atomic : 2638\n",
      "Taxi Sim 2016 : 3026\n",
      "Epic Jackpot Slots: Slot Machines & Bonus Games : 2291\n",
      "Colorpede : 90\n",
      "EA SPORTS™ FIFA 17 Companion : 1137\n",
      "Brick Splits : 1077\n",
      "Soccer Puzzle for Brain Training -SoccerStrike- : 0\n",
      "Candy's Vacation - Beach Hotel : 105\n",
      "Kerflux : 1648\n",
      "1-Bit Rogue: A dungeon crawler RPG! : 378\n",
      "Hop Swap : 144\n",
      "Forest Rescue 2: Friends United Match 3 Puzzle : 1505\n",
      "Motor World: Bike Factory : 960\n",
      "Escape from many tutoring school of test. : 1\n",
      "Mafia III: Rivals : 198\n",
      "Piggy Boom : 1918\n",
      "Troll Face Quest Video Games : 2118\n",
      "Trucker Parking Simulator 2 a Real Monster Truck & Lorry Driving Test : 101\n",
      "Flick Soccer 17 : 217\n",
      "Age of Heroes: Conquest : 468\n",
      "LOST MAZE : 130\n",
      "The Higher Lower Game : 924\n",
      "Donut Dazzle : 2317\n",
      "Pixel Strike-Sniper zombies shooting games : 42\n",
      "Trump Bounce : 105\n",
      "Leveled! : 897\n",
      "SPEED:3D Racing : 0\n",
      "Drop Out! : 125\n",
      "Circuroid : 342\n",
      "Baby Boss - Care, Dress Up and Play : 616\n",
      "Wedding Planner - Dress Up, Makeup & Cake Design : 346\n",
      "Bridge : 128\n",
      "Slots: Fast Fortune Slot Machines & Fun Slot Games : 1474\n",
      "Face Up - The Selfie Game : 21\n",
      "Legacy of Discord - Furious Wings : 4618\n",
      "Pigu : 94\n",
      "Just Rolling : 776\n",
      "Free Gameplay Video, Walkthroughs, News for Pokémon GO : 0\n",
      "Warlords - Turn Based Strategy : 287\n",
      "Ocean Clash: A naval game with honor and loyalty : 36\n",
      "Fiete Sports : 86\n",
      "Wave : 474\n",
      "Ducky Fuzz - Chain Reaction : 88\n",
      "All Limpy Run! : 86\n",
      "Buildy Blocks : 30\n",
      "Pixel Disc Golf 2 : 83\n",
      "Color 6 : 951\n",
      "Cake Break : 852\n",
      "Donald's Empire : 2288\n",
      "Phoenix II : 1321\n",
      "Crooked Path : 14\n",
      "Burrito Bison: Launcha Libre : 7740\n",
      "Panic Drop : 99\n",
      "Pokelog for PokemonGO : 0\n",
      "Drive Ahead! Sports : 1345\n",
      "Driving Evolution Parking Sim Real Car Driver Test : 76\n",
      "Pozzle Blocks : 33\n",
      "Water Bottle Flip Challenge : 2k16 : 43\n",
      "Wild City Rush - Urban Jungle Adventure : 19\n",
      "Suрer Toss The Turtle : 1339\n",
      "Bottle Flip 2k16 : 14263\n",
      "Particular : 0\n",
      "Dominocity : 55\n",
      "Escape Game: Traps : 29\n",
      "Soda Coin Party: Free Casino Pusher : 159\n",
      "Nitro Heads : 30\n",
      "PokeWhere - Live Radar Map for Pokemon GO : 1254\n",
      "Paddle Panic : 122\n",
      "Circle Boom2 - Wheel Puzzle Game : 19\n",
      "Sweet Princess Beauty Salon : 54\n",
      "VR Ball for Google Cardboard Virtual Reality : 46\n",
      "Neon Horizon : 31\n",
      "Gweep Gwop : 32\n",
      "Flip That Bottle : 599\n",
      "Escape from the beach house of everlasting summer. : 3\n",
      "Six! : 14505\n",
      "Swoopy Space : 142\n",
      "Rolling Snake.io - Worm IO Multiplayer Online Slither War Game - Free Agar Skins Version : 3392\n",
      "VR Haunted House 3D : 21\n",
      "Maze Walk VR - Virtual Reality Game Puzzle Apps : 227\n",
      "Skylanders™ Creator : 475\n",
      "Offline IV Calc for Pokemon GO : 82\n",
      "Wire de Coins 2 : 2\n",
      "Dustoff Heli Rescue 2 : 754\n",
      "Emergency Surgery Simulator - Doctor Game FOR FREE : 10\n",
      "Bounce Balls - Strike Game : 2\n",
      "My NBA 2K17 : 1784\n",
      "Super Adventures World HD : 15\n",
      "Offroad 4x4 Truck Trials Parking Simulator 2 a Real Stunt Car Driving Racing Sim : 121\n",
      "Moonvale 2: Puzzle Adventure : 64\n",
      "Solitaire ▪ : 258\n",
      "Hidden my game by mom - escape room : 311\n",
      "⋆Solitaire⋆ : 2059\n",
      "Hell Run - Scary Road : 39\n",
      "Lock The Block : 49\n",
      "Super Cat Tales : 7423\n",
      "*Solitaire* : 460\n",
      "Ketchapp Summer Sports : 3731\n",
      "Hillarymon Go : 209\n",
      "Flappy Golf 2 : 1089\n",
      "Gravity Trump : 647\n",
      "Wire Bounce : 279\n",
      "Higher Higher! : 2241\n",
      "Duel Master - Best Duelist : 871\n",
      "Trail Jump : 1\n",
      "Mushroom Wars 2 : 871\n",
      "Escape from the living room during the Obon holiday. : 3\n",
      "Tricky Test 2™: Genius Brain? : 45578\n",
      "New York City Car Taxi and Bus Parking Simulator : 185\n",
      "Hot Wheels: Race Off : 3141\n",
      "ROAD -escape game- : 2\n",
      "Shadow Bug Rush : 187\n",
      "Dashy the Cat : 39\n",
      "Spirit Rush : 47\n",
      "Crazy Nursery - Newborn Baby Doctor Care : 76\n",
      "VR Water Park:Water Stunt & Ride For VirtualGlasse : 74\n",
      "Tropical Twist : 982\n",
      "Auto IV Calc for PokemonGO : 0\n",
      "Narcos: Cartel Wars : 4490\n",
      "Fired Up : 115\n",
      "Jumps - Jumping on Pillars Game : 35\n",
      "Slots of Vegas - Play Free Casino slot machines! : 6\n",
      "Run From Trump : 172\n",
      "Offline Auto IV Calc for Pokemon GO : 137\n",
      "Water Bottle Flip Challenge : 868\n",
      "One More Spin! - Free Vegas Casino Slots : 1\n",
      "Water Bottle Flip Challenge - 2k16 Pro! : 167\n",
      "Idle Armies : 2015\n",
      "Jrump : 116\n",
      "The Krustashians : 6\n",
      "Tentacles - Enter the Mind : 159\n",
      "Spa Birthday Party - Nails, Hair, Dress Up & Cake : 122\n",
      "Hoverboard Rush Racing Simulator -Hover Board Game : 17\n",
      "Color 6: Blitz : 53\n",
      "FaZes - Run & Jump : 322\n",
      "Faily Rider : 544\n",
      "Super Mario Run : 87958\n",
      "Escape the Ice Cream Parlor : 5\n",
      "Boo - The World's Cutest Dog Game! : 521\n",
      "Drifty Chase : 1631\n",
      "Flow Free: Hexes : 2791\n",
      "Masky : 69\n",
      "White Tiles 4: Piano Master (All mini games in 1) : 3168\n",
      "Monster Craft GO - Find and Catch pixelmon CarToon : 4808\n",
      "My Teacher - School Classroom Play & Learn : 234\n",
      "Hill Climb Racing 2 : 33854\n",
      "Bold Moves : 4980\n",
      "Stony Road : 373\n",
      "The Trail : 12573\n",
      "Bubble Island 2 - Pop Bubble Shooter : 3480\n",
      "Tidal Rider : 284\n",
      "European War 5: Empire : 104\n",
      "Clashy Colors : 854\n",
      "Limo Driving School a Valet Driver License Test Parking Simulator : 38\n",
      "Knights Fight: Medieval Arena : 1501\n",
      "Osteya: Adventures : 107\n",
      "Ketchapp Tennis : 830\n",
      "Rubin.io : 16\n",
      "NHL SuperCard 2K17 : 116\n",
      "Super Fashion Show - Girls Makeup, Dressup Games : 125\n",
      "Evil Zombie Graveyard Apocalypse Shooting VR Games : 22\n",
      "Nekosan : 905\n",
      "Jelly Blast: New Exciting Match 3 : 2557\n",
      "Midnight Calling: Jeronimo : 127\n",
      "Christmas Stories: The Gift of the Magi : 227\n",
      "Crystal Rush! Color Shoot Arcade Game : 81\n",
      "Break Liner : 721\n",
      "Grandpa, what the fone? : 14\n",
      "Puzzlepops! Trick or Treat : 61\n",
      "Twisty Board : 800\n",
      "splix.io! : 415\n",
      "Toon Shooters 2: The Freelancers : 101\n",
      "Landix.io Online : 405\n",
      "Conduct THIS! : 116\n",
      "Snake splix : 155\n",
      "Slots - Lucky Win Casino Games & Slot Machines : 3807\n",
      "Order's Up : 188\n",
      "Grumpy Cat's Worst Game Ever : 5170\n",
      "Twin Moons Society™: Hidden Mystery : 6219\n",
      "String Rush : 606\n",
      "Advent Calendar 2017 - The Game : 5\n",
      "Despicable Bear - Top Beat Action Game : 8872\n",
      "Sticklings : 79\n",
      "Political Knockout PKO Presidential Fight : 15\n",
      "Mine Blitz : 2541\n",
      "Crooked Path: Infinity Run : 318\n",
      "Happy Oink : 24\n",
      "Stickman Basketball 2017 : 1835\n",
      "Word Cookies! : 287095\n",
      "Icy Ropes : 1931\n",
      "Science Girl - School Lab Super Star : 196\n",
      "Love Engine : 70\n",
      "Hop : 12079\n",
      "Wappoi Room Escape : 64\n",
      "Don't Grind : 751\n",
      "Hexy! : 51\n",
      "Ire - Blood Memory : 373\n",
      "Cola Bottle Flip Challenge : 14\n",
      "Pantheon Warfare: The Chaos of Knights : 0\n",
      "Water Bottle Flip Challenge : Endless Diving 2K16 : 421\n",
      "Real Cake Maker 3D - Bake, Design & Decorate : 160\n",
      "Brick Shot : 197\n",
      "机でGOLF : 0\n",
      "Sky Pillar : 27\n",
      "Chunky Tanks : 44\n",
      "Fairy Princess Fashion Design : 27\n",
      "Flippy Bottle Extreme! - Marker Flip Tricky 2K16 : 42435\n",
      "Escape from the pit latrine. : 2\n",
      "Pursuit of Light2 : 38\n",
      "High Risers : 486\n",
      "Water Bottle Flip Challenge 2 : 2964\n",
      "Pineapple Pen : 6430\n",
      "Tiny Rails : 1252\n",
      "Ski Resort Parking Sim Ice Road Snow Plow Trucker : 167\n",
      "Just Trap : 78\n",
      "Where's My What? Free : 35\n",
      "Mobile Legends: Bang bang : 11602\n",
      "■ Square it! : 226\n",
      "Devil Lord: I shouldn't say that...half of world : 0\n",
      "I Have A Pen : 527\n",
      "Gems Story : 173\n",
      "Extreme Trucks Simulator : 579\n",
      "Fit In The Hole : 506\n",
      "Escape Game: Signs : 41\n",
      "TENOSEL+ : 17\n",
      "Baby Bottle Challenge - Water Bottle Flip : 152\n",
      "Micromon : 56\n",
      "Kids Shave Salon Spa Games (Boys & Girls) : 3963\n",
      "Silly Sausage: Doggy Dessert : 102\n",
      "Sweet Tales : 147\n",
      "Buzzy Bubbles : 13\n",
      "ZenDots 2 - One Dot’s Journey : 54\n",
      "Hat Trick Shots : 197\n",
      "SMILE Inc. : 25859\n",
      "Water Bottle Flip Challenge: Flippy Bottle Diving : 362\n",
      "ON-SEN - escape game - : 14\n",
      "Flip King : 72\n",
      "Solitaire One : 1740\n",
      "Shoutrageous! - The Addictive Game of Lists : 60\n",
      "Escape from the Bears of the student council room. : 0\n",
      "Super Jabber Jump : 612\n",
      "Epic Battle Simulator : 1647\n",
      "Escape Game: Red room : 5\n",
      "Escape a Halloween Candy Shop : 0\n",
      "Our dark lord-Sasuyu 2-TAP RPG : 35\n",
      "Race Driving School Car Racing Driver License Test : 37\n",
      "Dungeon Witcher : 5\n",
      "My First Crush - High School Love : 710\n",
      "Crazy Clown Chase : 778\n",
      "Fitness Girl - Dance and Play at the Gym : 913\n",
      "Demi Lovato - Zombarazzie Adventure : 690\n",
      "Keepy Ducky : 1083\n",
      "Monster Zombie Plague War - Virtual Reality (VR) : 12\n",
      "Golden Lotus Slots : 0\n",
      "Waiit : 35\n",
      "Juju on the Beat : 2772\n",
      "Wall Switch : 19\n",
      "Cubed Rally World : 14\n",
      "Room Escape Game - Pictures Room Esacpe : 6\n",
      "Shark Boom - Challenge Friends with your Pet : 0\n",
      "Spiral Tower : 78\n",
      "Paper.io : 24097\n",
      "Juju on that Beat Challenge : 10\n",
      "ImpossibleGO! - You can't clear : 0\n",
      "Haunted Rooms: Escape VR Game for Google Cardboard : 60\n",
      "IQ200 - If you can clear all stage : 1\n",
      "Nope Quiz : 61\n",
      "Flip : 230\n",
      "Juju On That Beat  - Dance Challenge Game : 21\n",
      "Mannequin Challenge : 668\n",
      "Linda Brown: Interactive Story : 537\n",
      "Ocean Overlord - Global War : 0\n",
      "Hovercrash : 41\n",
      "Book - room escape game - : 10\n",
      "Icarus - A Star's Journey : 230\n",
      "Escape a Crepe House : 3\n",
      "Top Tier : 48\n",
      "Fast Food Rampage : 281\n",
      "Ice Princess - Royal Wedding Day : 283\n",
      "Amusement Park Tour 2: Fun Xmas : 115\n",
      "Sweet Tales: Match 3 Christmas : 215\n",
      "Escape Game: Christmas Eve : 21\n",
      "Stickman Base Jumper 2 : 1362\n",
      "Bottle Flip! : 3384\n",
      "Ao Oni2 : 7\n",
      "Multi Level Car Parking 6 Shopping Mall Garage Lot : 162\n",
      "Valley of Fear Virtual Reality : 46\n",
      "Christmas Swap 3 -Match toy & candy to countdown : 96\n",
      "VR Horror Maze Walk :Horror Fever For VR Cardboard : 6\n",
      "4x4 Dirt Track Trials Forest Driving Parking Sim : 1441\n",
      "Escape from the frigid Igloo. : 3\n",
      "Room Escape Game - Santa's Room : 10\n",
      "VR Thrills: Roller Coaster 360 (Google Cardboard) : 14\n",
      "Santa Kids Hair Salon - Christmas Makeover Games : 41\n",
      "Human Juggling Cup : 0\n",
      "Again - room escape game : 11\n",
      "Escape Game: illumination : 23\n",
      "Demolition Derby Virtual Reality (VR) Racing : 18\n",
      "Kubik : 142\n",
      "VR Roller-Coaster : 30\n",
      "VR Roller Coaster World - Virtual Reality : 85\n",
      "Escape the Sweet Shop Series : 3\n"
     ]
    }
   ],
   "source": [
    "for app in ios_free:\n",
    "    if app[-5] == 'Games':\n",
    "        print(app[2],':', app[6])"
   ]
  },
  {
   "cell_type": "code",
   "execution_count": 40,
   "metadata": {},
   "outputs": [
    {
     "output_type": "stream",
     "name": "stdout",
     "text": [
      "Bible : 985920\nDictionary.com Dictionary & Thesaurus : 200047\nDictionary.com Dictionary & Thesaurus for iPad : 54175\nMuslim Pro: Ramadan 2017 Prayer Times, Azan, Quran : 18418\nMerriam-Webster Dictionary : 16849\nGoogle Translate : 26786\nNight Sky : 12122\nWWDC : 762\nJishokun-Japanese English Dictionary & Translator : 0\n教えて!goo : 0\nVPN Express : 14\nNew Furniture Mods - Pocket Wiki & Game Tools for Minecraft PC Edition : 17588\nLUCKY BLOCK MOD ™ for Minecraft PC Edition - The Best Pocket Wiki & Mods Installer Tools : 4693\nGuides for Pokémon GO - Pokemon GO News and Cheats : 826\nHorror Maps for Minecraft PE - Download The Scariest Maps for Minecraft Pocket Edition (MCPE) Free : 718\nCity Maps for Minecraft PE - The Best Maps for Minecraft Pocket Edition (MCPE) : 8535\nGUNS MODS for Minecraft PC Edition - Mods Tools : 1497\nReal Bike Traffic Rider Virtual Reality Glasses : 8\n"
     ]
    }
   ],
   "source": [
    "for app in ios_free:\n",
    "    if app[-5] == 'Reference':\n",
    "        print(app[2],':', app[6])"
   ]
  },
  {
   "cell_type": "code",
   "execution_count": 41,
   "metadata": {},
   "outputs": [
    {
     "output_type": "stream",
     "name": "stdout",
     "text": [
      "Lifesum – Inspiring healthy lifestyle app : 5795\nLose It! – Weight Loss Program and Calorie Counter : 373835\nNike+ Training Club - Workouts & Fitness Plans : 33969\nSleep Cycle alarm clock : 104539\nPeriod Tracker Lite : 53620\nWeight Watchers : 136833\nMy Cycles Period and Ovulation Tracker : 7469\nRuntastic Running, Jogging and Walking Tracker : 10298\nCalorie Counter & Diet Tracker by MyFitnessPal : 507706\nWaterlogged - Daily Hydration Tracker : 5000\nWebMD for iPad : 9142\nFooducate - Lose Weight, Eat Healthy,Get Motivated : 11875\nMy Score Plus Weight Loss, Food & Exercise Tracker : 467\nVIBO RealMassager : 6\nFitbit : 90496\nHeadspace : 12819\nCharity Miles: Walking & Running Distance Tracker : 3115\nSworkit - Custom Workouts for Exercise & Fitness : 16819\nFitstar Personal Trainer : 7496\nGarmin Connect™ Mobile : 8341\nSmart Alarm Clock : sleep cycle & snoring recorder : 3779\nPlant Nanny - Water Reminder with Cute Plants : 27421\nSleep Meister - Sleep Cycle Alarm Lite : 445\nameli, l'Assurance Maladie : 8\nRUNNING for weight loss: workout & meal plans : 6407\nWalk for a Dog : 412\nSeven - 7 Minute Workout Training Challenge : 6808\nFreeletics Bodyweight - Workouts and Training : 1722\nClue Period Tracker: Period & Ovulation Tracker : 13436\nRuntastic Six Pack Abs Workout & Core Trainer : 4283\nFizzUp – Online Fitness Trainer : 5\nQuick Fit - 7 Minute Workout, Abs, and Yoga : 407\nJ&J Official 7 Minute Workout : 4861\n8fit - Workouts, meal plans and personal trainer : 8730\nModel My Diet - Women - Weight Loss Motivation : 236\nSmartFit - Wristband : 105\nRecord by Under Armour, connects with UA HealthBox : 7754\nRuntastic Butt Workout & Booty Trainer Plans : 222\nYAZIO – Calorie Counter & Nutrition Tracker : 115\nCrane Connect : 94\nWalking for Weight Loss: training plans, GPS, tips : 397\nMy Water Balance: Daily Drink Tracker & Reminder : 1601\nSuperdrug : 0\nDot - A Period & Fertility Tracker : 142\nAb & Core Sworkit - Free Workout Trainer : 2901\n2Face Fitpack - Dein Trainingsprogramm mit persönlichem Ernährungsplan, Kalorienrechner und Trainingsplan : 0\nButt Sworkit - Free Workout Trainer to tone & lift : 960\nGYMONDO – Fitness Training für Zuhause : 0\nSnail Sleep-Dream Talk Recording : 19\nMy Challenge Tracker : 3682\nRuntastic Results: Workout & Bodyweight Training : 1718\nFitbod Workout Log: Strength Lifting Bodybuilding : 4668\nSweat: Kayla Itsines' Bikini Body Fitness Workouts : 3788\nMorning Routine : Daily Habit Tracker : 40\nSenseSleep - Train Your Brain To Sleep Better : 22\nLife Cycle - Track Your Time Automatically : 1760\nAsana Rebel - Yoga Inspired Fitness : 2459\nFit Girls Guide : 397\nWellbeyond Meditation for Kids : 36\nZen : 298\nSimple Habit : 2494\nDr. Oz : 99\nairweave sleep analysis : 0\nIntuition Guidances : 0\nSonia Tlev : 0\n"
     ]
    }
   ],
   "source": [
    "for app in ios_free:\n",
    "    if app[-5] == 'Health & Fitness':\n",
    "        print(app[2],':', app[6])"
   ]
  },
  {
   "source": [
    "Lots of the average number of ratings for the categories above are skewed heavily by a few apps which appear to have the majority of the market share. However, 'Health & Fitness' and 'Reference' appear to have less of a skew, with most of the apps in these categories having quite a high number of ratings. \n",
    "\n",
    "### Google Play Store\n",
    "\n",
    "Now to analyse the Google Play Store data.\n",
    "\n",
    "For this dataset, we can use the column 'Installs' (index 5) to give the actual number of users. However, the install numbers aren't so precise and are open-ended."
   ],
   "cell_type": "markdown",
   "metadata": {}
  },
  {
   "cell_type": "code",
   "execution_count": 42,
   "metadata": {},
   "outputs": [
    {
     "output_type": "stream",
     "name": "stdout",
     "text": [
      "1,000,000+ : 15.687815833801237\n100,000+ : 11.577765300393038\n10,000,000+ : 10.499719258843346\n10,000+ : 10.252667040988209\n1,000+ : 8.422234699606962\n100+ : 6.917462099943853\n5,000,000+ : 6.816395283548568\n500,000+ : 5.53621560920831\n50,000+ : 4.817518248175182\n5,000+ : 4.525547445255475\n10+ : 3.537338573834924\n500+ : 3.2341381246490735\n50,000,000+ : 2.2908478382930935\n100,000,000+ : 2.1224031443009546\n50+ : 1.9090398652442448\n5+ : 0.7860752386299831\n1+ : 0.5165637282425604\n500,000,000+ : 0.26951151038742277\n1,000,000,000+ : 0.22459292532285235\n0+ : 0.044918585064570464\n0 : 0.011229646266142616\n"
     ]
    }
   ],
   "source": [
    "display_table(android_free, 5)"
   ]
  },
  {
   "cell_type": "code",
   "execution_count": 43,
   "metadata": {},
   "outputs": [
    {
     "output_type": "execute_result",
     "data": {
      "text/plain": [
       "['App',\n",
       " 'Category',\n",
       " 'Rating',\n",
       " 'Reviews',\n",
       " 'Size',\n",
       " 'Installs',\n",
       " 'Type',\n",
       " 'Price',\n",
       " 'Content Rating',\n",
       " 'Genres',\n",
       " 'Last Updated',\n",
       " 'Current Ver',\n",
       " 'Android Ver']"
      ]
     },
     "metadata": {},
     "execution_count": 43
    }
   ],
   "source": [
    "android_header"
   ]
  },
  {
   "cell_type": "code",
   "execution_count": 44,
   "metadata": {},
   "outputs": [
    {
     "output_type": "stream",
     "name": "stdout",
     "text": [
      "ART_AND_DESIGN : 1952105.1724137932\nAUTO_AND_VEHICLES : 647317.8170731707\nBEAUTY : 513151.88679245283\nBOOKS_AND_REFERENCE : 8587351.855670104\nBUSINESS : 1708215.906862745\nCOMICS : 803234.8214285715\nCOMMUNICATION : 38322625.697916664\nDATING : 854028.8303030303\nEDUCATION : 1825480.7692307692\nENTERTAINMENT : 11640705.88235294\nEVENTS : 253542.22222222222\nFINANCE : 1387692.475609756\nFOOD_AND_DRINK : 1924897.7363636363\nHEALTH_AND_FITNESS : 4188821.9853479853\nHOUSE_AND_HOME : 1331540.5616438356\nLIBRARIES_AND_DEMO : 638503.734939759\nLIFESTYLE : 1436126.94\nGAME : 15551995.891203703\nFAMILY : 3668870.823076923\nMEDICAL : 120550.61980830671\nSOCIAL : 23253652.127118643\nSHOPPING : 7001693.425\nPHOTOGRAPHY : 17772018.759541985\nSPORTS : 3638640.1428571427\nTRAVEL_AND_LOCAL : 13984077.710144928\nTOOLS : 10787009.952063914\nPERSONALIZATION : 5183850.806779661\nPRODUCTIVITY : 16738957.554913295\nPARENTING : 542603.6206896552\nWEATHER : 5074486.197183099\nVIDEO_PLAYERS : 24573948.25\nNEWS_AND_MAGAZINES : 9401635.952380951\nMAPS_AND_NAVIGATION : 3993339.603174603\n"
     ]
    }
   ],
   "source": [
    "# freq_table(android_free, 1)\n",
    "\n",
    "google_play_cats_installs = {}\n",
    "for category in freq_table(android_free,1):\n",
    "    total = 0 # store the sum of intalls specific to each genre\n",
    "    len_category = 0\n",
    "    for app in android_free:\n",
    "        category_app = app[1]\n",
    "        if category_app ==  category:\n",
    "            installs_app = app[5]\n",
    "            installs_app = installs_app.replace('+','')\n",
    "            installs_app = installs_app.replace(',','')\n",
    "            installs_app = int(installs_app)\n",
    "            total += installs_app\n",
    "            len_category += 1\n",
    "    \n",
    "    avg_num_installs = total / len_category\n",
    "    google_play_cats_installs[category] = avg_num_installs\n",
    "    print(f'{category} : {avg_num_installs}')"
   ]
  },
  {
   "cell_type": "code",
   "execution_count": 45,
   "metadata": {},
   "outputs": [],
   "source": [
    "def sort_dict(dictionary):\n",
    "    tuples_list = [(value, key) for key, value in dictionary.items()]\n",
    "    return sorted(tuples_list, reverse=True)"
   ]
  },
  {
   "cell_type": "code",
   "execution_count": 46,
   "metadata": {},
   "outputs": [
    {
     "output_type": "execute_result",
     "data": {
      "text/plain": [
       "[(38322625.697916664, 'COMMUNICATION'),\n",
       " (24573948.25, 'VIDEO_PLAYERS'),\n",
       " (23253652.127118643, 'SOCIAL'),\n",
       " (17772018.759541985, 'PHOTOGRAPHY'),\n",
       " (16738957.554913295, 'PRODUCTIVITY'),\n",
       " (15551995.891203703, 'GAME'),\n",
       " (13984077.710144928, 'TRAVEL_AND_LOCAL'),\n",
       " (11640705.88235294, 'ENTERTAINMENT'),\n",
       " (10787009.952063914, 'TOOLS'),\n",
       " (9401635.952380951, 'NEWS_AND_MAGAZINES'),\n",
       " (8587351.855670104, 'BOOKS_AND_REFERENCE'),\n",
       " (7001693.425, 'SHOPPING'),\n",
       " (5183850.806779661, 'PERSONALIZATION'),\n",
       " (5074486.197183099, 'WEATHER'),\n",
       " (4188821.9853479853, 'HEALTH_AND_FITNESS'),\n",
       " (3993339.603174603, 'MAPS_AND_NAVIGATION'),\n",
       " (3668870.823076923, 'FAMILY'),\n",
       " (3638640.1428571427, 'SPORTS'),\n",
       " (1952105.1724137932, 'ART_AND_DESIGN'),\n",
       " (1924897.7363636363, 'FOOD_AND_DRINK'),\n",
       " (1825480.7692307692, 'EDUCATION'),\n",
       " (1708215.906862745, 'BUSINESS'),\n",
       " (1436126.94, 'LIFESTYLE'),\n",
       " (1387692.475609756, 'FINANCE'),\n",
       " (1331540.5616438356, 'HOUSE_AND_HOME'),\n",
       " (854028.8303030303, 'DATING'),\n",
       " (803234.8214285715, 'COMICS'),\n",
       " (647317.8170731707, 'AUTO_AND_VEHICLES'),\n",
       " (638503.734939759, 'LIBRARIES_AND_DEMO'),\n",
       " (542603.6206896552, 'PARENTING'),\n",
       " (513151.88679245283, 'BEAUTY'),\n",
       " (253542.22222222222, 'EVENTS'),\n",
       " (120550.61980830671, 'MEDICAL')]"
      ]
     },
     "metadata": {},
     "execution_count": 46
    }
   ],
   "source": [
    "sort_dict(google_play_cats_installs)"
   ]
  },
  {
   "source": [
    "The categories with the greatest average number of installs are communication, video players, social, photography, productivity, game, traveland local, entertainment and tools (in descending popularity).\n",
    "\n",
    "As with the iOS data, we can investigate the skew of each category by iterating over the apps in that category and looking at the number of installs."
   ],
   "cell_type": "markdown",
   "metadata": {}
  },
  {
   "cell_type": "code",
   "execution_count": 47,
   "metadata": {},
   "outputs": [],
   "source": [
    "def android_app_in_cat(chosen_category):\n",
    "    for app in android_free:\n",
    "        category = app[1]\n",
    "        if category == chosen_category:\n",
    "            print(f'{app[0]} : {app[5]}')"
   ]
  },
  {
   "cell_type": "code",
   "execution_count": 48,
   "metadata": {},
   "outputs": [
    {
     "output_type": "stream",
     "name": "stdout",
     "text": [
      "WhatsApp Messenger : 1,000,000,000+\nMessenger for SMS : 10,000,000+\nMy Tele2 : 5,000,000+\nimo beta free calls and text : 100,000,000+\nContacts : 50,000,000+\nCall Free – Free Call : 5,000,000+\nWeb Browser & Explorer : 5,000,000+\nBrowser 4G : 10,000,000+\nMegaFon Dashboard : 10,000,000+\nZenUI Dialer & Contacts : 10,000,000+\nCricket Visual Voicemail : 10,000,000+\nTracFone My Account : 1,000,000+\nXperia Link™ : 10,000,000+\nTouchPal Keyboard - Fun Emoji & Android Keyboard : 10,000,000+\nSkype Lite - Free Video Call & Chat : 5,000,000+\nMy magenta : 1,000,000+\nAndroid Messages : 100,000,000+\nGoogle Duo - High Quality Video Calls : 500,000,000+\nSeznam.cz : 1,000,000+\nAntillean Gold Telegram (original version) : 100,000+\nAT&T Visual Voicemail : 10,000,000+\nGMX Mail : 10,000,000+\nOmlet Chat : 10,000,000+\nMy Vodacom SA : 5,000,000+\nMicrosoft Edge : 5,000,000+\nMessenger – Text and Video Chat for Free : 1,000,000,000+\nimo free video calls and chat : 500,000,000+\nCalls & Text by Mo+ : 5,000,000+\nfree video calls and chat : 50,000,000+\nSkype - free IM & video calls : 1,000,000,000+\nWho : 100,000,000+\nGO SMS Pro - Messenger, Free Themes, Emoji : 100,000,000+\nMessaging+ SMS, MMS Free : 1,000,000+\nchomp SMS : 10,000,000+\nGlide - Video Chat Messenger : 10,000,000+\nText SMS : 10,000,000+\nTalkray - Free Calls & Texts : 10,000,000+\nLINE: Free Calls & Messages : 500,000,000+\nGroupMe : 10,000,000+\nmysms SMS Text Messaging Sync : 1,000,000+\n2ndLine - Second Phone Number : 1,000,000+\nGoogle Chrome: Fast & Secure : 1,000,000,000+\nFirefox Browser fast & private : 100,000,000+\nNinesky Browser : 1,000,000+\nDolphin Browser - Fast, Private & Adblock🐬 : 50,000,000+\nUC Browser - Fast Download Private & Secure : 500,000,000+\nGhostery Privacy Browser : 1,000,000+\nInBrowser - Incognito Browsing : 1,000,000+\nLightning Web Browser : 500,000+\nWeb Browser : 500,000+\nContacts+ : 10,000,000+\nExDialer - Dialer & Contacts : 10,000,000+\nPHONE for Google Voice & GTalk : 1,000,000+\nSafest Call Blocker : 1,000,000+\nFull Screen Caller ID : 5,000,000+\nHiya - Caller ID & Block : 10,000,000+\nMr. Number-Block calls & spam : 10,000,000+\nShould I Answer? : 1,000,000+\nRocketDial Dialer & Contacts : 1,000,000+\nCIA - Caller ID & Call Blocker : 5,000,000+\nCalls Blacklist - Call Blocker : 10,000,000+\nCall Control - Call Blocker : 5,000,000+\nTrue Contact - Real Caller ID : 1,000,000+\nVideo Caller Id : 1,000,000+\nSync.ME – Caller ID & Block : 5,000,000+\nBurner - Free Phone Number : 1,000,000+\nCaller ID + : 1,000,000+\nGmail : 1,000,000,000+\nK-9 Mail : 5,000,000+\nmyMail – Email for Hotmail, Gmail and Outlook Mail : 10,000,000+\nEmail TypeApp - Mail App : 1,000,000+\nAll Email Providers : 1,000,000+\nNewton Mail - Email App for Gmail, Outlook, IMAP : 1,000,000+\nGO Notifier : 10,000,000+\nMail.Ru - Email App : 50,000,000+\nMail1Click - Secure Mail : 10,000+\nDaum Mail - Next Mail : 5,000,000+\nmail.com mail : 1,000,000+\nSolMail - All-in-One email app : 500,000+\nHangouts : 1,000,000,000+\nVonage Mobile® Call Video Text : 1,000,000+\nJusTalk - Free Video Calls and Fun Video Chat : 5,000,000+\nAzar : 50,000,000+\nLokLok: Draw on a Lock Screen : 500,000+\nDiscord - Chat for Gamers : 10,000,000+\nMessenger Lite: Free Calls & Messages : 100,000,000+\nAntennaPict β : 1,000,000+\nTalkatone: Free Texts, Calls & Phone Number : 10,000,000+\nKik : 100,000,000+\nK-@ Mail - Email App : 100,000+\nKakaoTalk: Free Calls & Text : 100,000,000+\nK-9 Material (unofficial) : 5,000+\nM star Dialer : 100,000+\nFree WiFi Connect : 10,000,000+\nm:go BiH : 10,000+\nN-Com Wizard : 50,000+\nOpera Mini - fast web browser : 100,000,000+\nOpera Browser: Fast and Secure : 100,000,000+\nOpera Mini browser beta : 10,000,000+\nPsiphon Pro - The Internet Freedom VPN : 10,000,000+\nICQ — Video Calls & Chat Messenger : 10,000,000+\nTelegram : 100,000,000+\nAT&T Messages for Tablet : 1,000,000+\nT-Mobile DIGITS : 100,000+\nTruecaller: Caller ID, SMS spam blocking & Dialer : 100,000,000+\nPortable Wi-Fi hotspot : 10,000,000+\nAT&T Call Protect : 5,000,000+\nU - Webinars, Meetings & Messenger : 500,000+\nUC Browser Mini -Tiny Fast Private & Secure : 100,000,000+\n/u/app : 10,000+\n[verify-U] VideoIdent : 10,000+\nViber Messenger : 500,000,000+\nWeChat : 100,000,000+\nWhatsApp Business : 10,000,000+\nWhatsCall Free Global Phone Call App & Cheap Calls : 10,000,000+\nX Browser : 50,000+\nYahoo Mail – Stay Organized : 100,000,000+\nFree Adblocker Browser - Adblock & Popup Blocker : 10,000,000+\nAdblock Browser for Android : 10,000,000+\nCM Browser - Ad Blocker , Fast Download , Privacy : 50,000,000+\nAdblock Plus for Samsung Internet - Browse safe. : 1,000,000+\nAd Blocker Turbo - Adblocker Browser : 10,000+\nBrave Browser: Fast AdBlocker : 5,000,000+\nAG Contacts, Lite edition : 5,000+\nOklahoma Ag Co-op Council : 10+\nBee'ah Employee App : 100+\ntournaments and more.aj.2 : 100+\nAj.Petra : 100+\nAK Phone : 5,000+\nPlacarTv Futebol Ao Vivo : 100,000+\nWiFi Access Point (hotspot) : 100,000+\nAccess Point Names : 10,000+\nPuffin Web Browser : 10,000,000+\nClanHQ : 10,000+\nEar Agent: Super Hearing : 5,000,000+\nGoogle Voice : 10,000,000+\nGoogle Allo : 10,000,000+\nAU Call Blocker - Block Unwanted Calls Texts 2018 : 1,000+\nBaby Monitor AV : 100,000+\nAV Phone : 1,000+\nAW - free video calls and chat : 1,000,000+\nKatalogen.ax : 100+\nAZ Browser. Private & Download : 100,000+\nBA SALES : 1+\nBD Data Plan (3G & 4G) : 500,000+\nBD Internet Packages (Updated) : 50,000+\nBD Dialer : 10,000+\nBD Live Call : 5,000+\nBest Browser BD social networking : 10+\nTraffic signs BD : 500+\nBF Browser by Betfilter - Stop Gambling Today! : 10,000+\nMy BF App : 50,000+\nBH Mail : 1,000+\nZalo – Video Call : 50,000,000+\nBJ - Confidential : 10+\nBK Chat : 1,000+\nOf the wall Arapaho bk : 5+\nAC-BL : 50+\nBBM - Free Calls & Messages : 100,000,000+\nDMR BrandMeister Tool : 10,000+\nBBMoji - Your personalized BBM Stickers : 1,000,000+\nBN MALLORCA Radio : 1,000+\nBQ Partners : 1,000+\nBS-Mobile : 50+\nATC Unico BS : 500+\nBT One Voice mobile access : 5,000+\nBT Messenger : 50,000+\nBT One Phone Mobile App : 10,000+\nSW-100.tch by Callstel : 1,000,000+\nBT MeetMe with Dolby Voice : 100,000+\nBluetooth Auto Connect : 5,000,000+\nAudioBT: BT audio GPS/SMS/Text : 50,000+\nBV : 100+\nFeel Performer : 10,000+\nTiny Call Confirm : 1,000,000+\nCB Radio Chat - for friends! : 1,000,000+\nCB On Mobile : 100,000+\nVirtual Walkie Talkie : 1,000,000+\nChannel 19 : 100,000+\nCb browser : 50+\nCF Chat: Connecting Friends : 100+\nretteMi.ch : 5,000+\nChrome Dev : 5,000,000+\nCJ Browser - Fast & Private : 100+\nCJ DVD Rentals : 100+\nCK Call NEW : 10+\nCM Transfer - Share any files with friends nearby : 5,000,000+\nmail.co.uk Mail : 5,000+\nClanPlay: Community and Tools for Gamers : 1,000,000+\nCQ-Mobile : 1,000+\nCQ-Alert : 500+\nQRZ Assistant : 100,000+\nPocket Prefix Plus : 10,000+\nHam Radio Prefixes : 10,000+\nCS Customizer : 1,000+\nCS Browser | #1 & BEST BROWSER : 1,000+\nCS Browser Beta : 5,000+\nMy Vodafone (GR) : 1,000,000+\nIZ2UUF Morse Koch CW : 50,000+\nC W Browser : 100+\nCW Bluetooth SPP : 100+\nCW BLE Peripheral Simulator : 500+\nMorse Code Reader : 100,000+\nLearn Morse Code - G0HYN Learn Morse : 5,000+\nRing : 10,000+\nHyundai CX Conference : 50+\nCy Messenger : 100+\nAmadeus GR & CY : 100+\nHlášenírozhlasu.cz : 10+\nSMS Sender - sluzba.cz : 1,000+\nWEB.DE Mail : 10,000,000+\nYour Freedom VPN Client : 5,000,000+\nCallApp: Caller ID, Blocker & Phone Call Recorder : 10,000,000+\nRádio Sol Nascente DF : 500+\nDG Card : 100+\nWhoscall - Caller ID & Block : 10,000,000+\nDK Browser : 10+\ncluster.dk : 1,000+\nDK TEL Dialer : 50+\nDM for WhatsApp : 5,000+\nDM Talk New : 5,000+\nDM - The Offical Messaging App : 10+\nDM Tracker : 1,000+\nCall Blocker & Blacklist : 1,000+\nReadyOp DT : 1,000+\nDU Browser—Browse fast & fun : 10,000,000+\nCaller ID & Call Block - DU Caller : 5,000,000+\nBlueDV AMBE : 1,000+\nDW Contacts & Phone & Dialer : 1,000,000+\nDeaf World DW : 10,000+\nHam DX Cluster & Spots Finder : 5,000+\nMircules DX Cluster Lite : 5,000+\n3G DZ Configuration : 50,000+\nchat dz : 100+\nlove sms good morning : 5,000+\nGoodbox - Mega App : 100,000+\nCall Blocker - Blacklist, SMS Blocker : 1,000,000+\n[EF]ShoutBox : 100+\nEg Call : 10,000+\nei : 10+\nEJ messenger : 10+\nEk IRA : 10+\nOrfox: Tor Browser for Android : 10,000,000+\nEO Mumbai : 10+\nEP RSS Reader : 100+\nVoxer Walkie Talkie Messenger : 10,000,000+\nES-1 : 500+\nHangouts Dialer - Call Phones : 10,000,000+\nEU Council : 1,000+\nCouncil Voting Calculator : 5,000+\nHave your say on Europe : 500+\nProgrami podrške EU : 100+\nInbox.eu : 10,000+\nWeb Browser for Android : 1,000,000+\n哈哈姆特不EY : 10,000+\nEverbridge : 100,000+\nBest Auto Call Recorder Free : 500+\nEZ Wifi Notification : 10,000+\nTest Server SMS FA : 5+\nLite for Facebook Messenger : 1,000,000+\nFC Browser - Focus Privacy Browser : 1,000+\nEHiN-FH conferenceapp : 100+\nCarpooling FH Hagenberg : 100+\nWi-Fi Auto-connect : 1,000,000+\nTalkie - Wi-Fi Calling, Chats, File Sharing : 500,000+\nWeFi - Free Fast WiFi Connect & Find Wi-Fi Map : 1,000,000+\nSat-Fi : 5,000+\nPortable Wi-Fi hotspot Free : 100,000+\nTownWiFi | Wi-Fi Everywhere : 500,000+\nJazz Wi-Fi : 10,000+\nSat-Fi Voice : 1,000+\nFree Wi-fi HotspoT : 50,000+\nFN Web Radio : 10+\nFNH Payment Info : 10+\nMARKET FO : 100+\nFO OP St-Nazaire : 100+\nFO SODEXO : 100+\nFO RCBT : 100+\nFO Interim : 100+\nFO PSA Sept-Fons : 100+\nFO AIRBUS TLSE : 1,000+\nFO STELIA Méaulte : 100+\nFO AIRBUS Nantes : 100+\nFirefox Focus: The privacy browser : 1,000,000+\nFP Connect : 100+\nFreedomPop Messaging Phone/SIM : 500,000+\nFP Live : 10+\nHipChat - beta version : 50,000+\n"
     ]
    }
   ],
   "source": [
    "android_app_in_cat('COMMUNICATION')"
   ]
  },
  {
   "cell_type": "code",
   "execution_count": 49,
   "metadata": {},
   "outputs": [
    {
     "output_type": "stream",
     "name": "stdout",
     "text": [
      "YouTube : 1,000,000,000+\nAll Video Downloader 2018 : 1,000,000+\nVideo Downloader : 10,000,000+\nHD Video Player : 1,000,000+\nIqiyi (for tablet) : 1,000,000+\nVideo Player All Format : 10,000,000+\nMotorola Gallery : 100,000,000+\nFree TV series : 100,000+\nVideo Player All Format for Android : 500,000+\nVLC for Android : 100,000,000+\nCode : 10,000,000+\nVote for : 50,000,000+\nXX HD Video downloader-Free Video Downloader : 1,000,000+\nOBJECTIVE : 1,000,000+\nMusic - Mp3 Player : 10,000,000+\nHD Movie Video Player : 1,000,000+\nYouCut - Video Editor & Video Maker, No Watermark : 5,000,000+\nVideo Editor,Crop Video,Movie Video,Music,Effects : 1,000,000+\nYouTube Studio : 10,000,000+\nvideo player for android : 10,000,000+\nVigo Video : 50,000,000+\nGoogle Play Movies & TV : 1,000,000,000+\nHTC Service － DLNA : 10,000,000+\nVPlayer : 1,000,000+\nMiniMovie - Free Video and Slideshow Editor : 50,000,000+\nSamsung Video Library : 50,000,000+\nOnePlus Gallery : 1,000,000+\nLIKE – Magic Video Maker & Community : 50,000,000+\nHTC Service—Video Player : 5,000,000+\nPlay Tube : 1,000,000+\nDroid Zap by Motorola : 5,000,000+\nvideo player : 1,000,000+\nG Guide Program Guide (SOFTBANK EMOBILE WILLCOM version) : 1,000,000+\nVideo.Guru - Video Maker : 1,000,000+\nHTC Gallery : 10,000,000+\nPowerDirector Video Editor App: 4K, Slow Mo & More : 10,000,000+\nCartoon Network App : 10,000,000+\nVideo Status : 1,000,000+\nVideo Wallpaper Show : 500+\nSVT Play : 1,000,000+\nBluTV : 1,000,000+\nTencent Video - Supporting the whole network : 1,000,000+\nCasper Ssinema : 10,000+\namazer - Global Kpop Video Community : 100,000+\nMX Player : 500,000,000+\nVideo Editor : 5,000,000+\nOmlet Arcade - Stream, Meet, Play : 10,000,000+\nVUE: video editor & camcorder : 1,000,000+\nMagisto Video Editor & Maker : 10,000,000+\nDubsmash : 100,000,000+\nDU Recorder – Screen Recorder, Video Editor, Live : 50,000,000+\nKineMaster – Pro Video Editor : 50,000,000+\nMobizen Screen Recorder for SAMSUNG : 10,000,000+\nMobizen Screen Recorder for LG - Record, Capture : 1,000,000+\nM-Sight Pro : 5,000+\nSketch 'n' go : 100,000+\nQ-See Plus : 5,000+\nUstream : 10,000,000+\nVMate : 50,000,000+\nAll Video Downloader : 10,000,000+\nVidPlay : 1,000,000+\nHD Video Downloader : 2018 Best video mate : 50,000,000+\nVivaVideo - Video Editor & Photo Movie : 100,000,000+\nVideoShow-Video Editor, Video Maker, Beauty Camera : 100,000,000+\nW Box VMS : 10,000+\nW Box VMS HD : 5,000+\nAB Repeat Player : 100,000+\nA-B repeater : 5,000+\nEz Screen Recorder (no ad) : 100,000+\nAdobe Premiere Clip : 5,000,000+\nFilmoraGo - Free Video Editor : 10,000,000+\nActionDirector Video Editor - Edit Videos Fast : 5,000,000+\nAJ Player : 100+\nAK Lodi Films : 100+\nWiFi Baby Monitor - NannyCam : 5,000,000+\nRingdroid : 50,000,000+\nMultiple Videos at Same Time : 1,000,000+\nAV-IPTV : 1,000+\nHD Video Player (wmv,avi,mp4,flv,av,mpg,mkv)2017 : 10,000+\nHD Video Player - Video & MP3 Player | AV Player | : 5,000+\nEML UPnP-AV Control Point : 10,000+\nAW Screen Recorder No Root : 100,000+\nAX Player -Nougat Video Player : 1,000,000+\nAX Video Player : 50,000+\nAy : 5,000+\nAy Sabz Gunbad Waly : 1,000+\niMediaShare – Photos & Music : 10,000,000+\nAZ Screen Recorder - No Root : 10,000,000+\nMovie Downloader Torrent : Az Torrent : 1,000+\nA-Z Screen Recorder - : 500+\nBC iptv player : 1,000+\nBc Vod : 100+\nFunny videos for whatsapp : 1,000,000+\nBG video - floating video - background video : 5,000+\nBG MUSIC PLAYER - MUSIC PLAYER : 100+\nbgtime.tv : 50,000+\nYourTube Video Views BG : 500+\nMusic for Youtube - Tube Music BG, Red+ : 1,000+\nBGCN TV : 100,000+\nAfreecaTV : 10,000,000+\n뽕티비 - 개인방송, 인터넷방송, BJ방송 : 100,000+\nBK News Channel : 10,000+\nBR Video Player : 5,000+\nBR Series : 50,000+\nCINE BR : 1,000+\niPlayIT for YouTube VR Player : 1,000,000+\nBSPlayer FREE : 10,000,000+\nBSPlayer ARMv7 VFP CPU support : 1,000,000+\nBS player remote : 10,000+\nBitTorrent®- Torrent Downloads : 10,000,000+\nBx-WiFi-GI : 100+\nBZ Langenthaler Tagblatt : 1,000+\nNero AirBurn : 100,000+\nCI Stream : 10+\nCJ Camcorder : 500+\nCJ VLC HD Remote (+ Stream) : 500,000+\nACTIVEON CX & CX GOLD : 50,000+\nCX Monthly Tech News : 500+\nDG UPnP Player Free : 10,000+\nDG Screen Recorder : 500+\nDG Video Editor : 10,000+\nVideo Downloader - for Instagram Repost App : 10,000,000+\nQuik – Free Video Editor for photos, clips, music : 10,000,000+\nFrostWire: Torrent Downloader & Music Player : 10,000,000+\nInst Download - Video & Photo : 10,000,000+\nVuze Torrent Downloader : 1,000,000+\nAndStream - Streaming Download : 1,000,000+\nDR TV : 500,000+\nDS photo : 1,000,000+\nDS video : 1,000,000+\nDU Privacy-hide apps、sms、file : 1,000,000+\niSmart DV : 1,000,000+\ndv Prompter : 50,000+\nDV Lottery Photo : 5,000+\nMelifeCam-M : 10,000+\nGoPlus Cam : 500,000+\nGoAction : 100,000+\n4K VIDEO PLAYER ULTRA HD : 5,000+\nDownvids Helper - One touch DW : 10,000+\nDZ Popup Video Player : 5,000+\nEC MANAGER : 100+\nEF Sidekick : 5,000+\nek tuhi : 10,000+\nNaruto Shippuden - Watch Free! : 10,000,000+\nES Audio Player ( Shortcut ) : 100,000+\nFurrion ES Control : 5,000+\nES-IPTV : 50,000+\nEZCast – Cast Media to TV : 1,000,000+\nEZ Web Video Cast | Chromecast : 100,000+\nEZ-SEE : 10,000+\nEZ TV Player : 10,000+\nEZ Usenet for Easynews® : 10,000+\nEZ game screen recorder with audio 1080P : 1,000+\nVideos downloader for Facebook:fast fb video saver : 5,000+\nVideo Downloader for FB : Video Download with Link : 100,000+\nHD VideoDownlaoder For Fb : XXVideo Downloader : 10,000+\nHD Video Download for Facebook : 1,000,000+\nArt of F J Taylor : 10+\nMotorola FM Radio : 100,000,000+\nList iptv FR : 100+\n"
     ]
    }
   ],
   "source": [
    "android_app_in_cat('VIDEO_PLAYERS')"
   ]
  },
  {
   "cell_type": "code",
   "execution_count": 50,
   "metadata": {},
   "outputs": [
    {
     "output_type": "stream",
     "name": "stdout",
     "text": [
      "Facebook : 1,000,000,000+\nFacebook Lite : 500,000,000+\nTumblr : 100,000,000+\nSocial network all in one 2018 : 100,000+\nPinterest : 100,000,000+\nTextNow - free text + calls : 10,000,000+\nGoogle+ : 1,000,000,000+\nThe Messenger App : 1,000,000+\nMessenger Pro : 1,000,000+\nFree Messages, Video, Chat,Text for Messenger Plus : 1,000,000+\nTelegram X : 5,000,000+\nThe Video Messenger App : 100,000+\nJodel - The Hyperlocal App : 1,000,000+\nHide Something - Photo, Video : 5,000,000+\nLove Sticker : 1,000,000+\nWeb Browser & Fast Explorer : 5,000,000+\nLiveMe - Video chat, new friends, and make money : 10,000,000+\nVidStatus app - Status Videos & Status Downloader : 5,000,000+\nLove Images : 1,000,000+\nWeb Browser ( Fast & Secure Web Explorer) : 500,000+\nSPARK - Live random video chat & meet new people : 5,000,000+\nGolden telegram : 50,000+\nFacebook Local : 1,000,000+\nMeet – Talk to Strangers Using Random Video Chat : 5,000,000+\nMobilePatrol Public Safety App : 1,000,000+\n💘 WhatsLov: Smileys of love, stickers and GIF : 1,000,000+\nHTC Social Plugin - Facebook : 10,000,000+\nQuora : 10,000,000+\nKate Mobile for VK : 10,000,000+\nFamily GPS tracker KidControl + GPS by SMS Locator : 1,000,000+\nMoment : 1,000,000+\nText Me: Text Free, Call Free, Second Phone Number : 10,000,000+\nText Free: WiFi Calling App : 5,000,000+\nBadoo - Free Chat & Dating App : 100,000,000+\nText free - Free Text + Call : 10,000,000+\nTango - Live Video Broadcast : 100,000,000+\nooVoo Video Calls, Messaging & Stories : 50,000,000+\nWhisper : 5,000,000+\nBlogger : 5,000,000+\nBloglovin' : 500,000+\nBlogaway for Android (Blogger) : 100,000+\nInstagram : 1,000,000,000+\nTwitCasting Live : 1,000,000+\nStream - Live Video Community : 500,000+\nYouNow: Live Stream Video Chat : 10,000,000+\nMirrativ: Live Stream Any App : 500,000+\nSnapchat : 500,000,000+\nBanjo : 1,000,000+\nWe Heart It : 10,000,000+\nMeetMe: Chat & Meet New People : 50,000,000+\nTimehop : 5,000,000+\nFrontback - Social Photos : 1,000,000+\nLinkedIn : 100,000,000+\nPath : 10,000,000+\nSayHi Chat, Meet New People : 10,000,000+\nTapatalk - 100,000+ Forums : 10,000,000+\nCouple - Relationship App : 1,000,000+\nNextdoor - Local neighborhood news & classifieds : 5,000,000+\nLOVOO : 10,000,000+\nJaumo Dating, Flirt & Live Video : 10,000,000+\nPatook - make platonic friends : 100,000+\nZello PTT Walkie Talkie : 50,000,000+\ntextPlus: Free Text & Calls : 10,000,000+\nmagicApp Calling & Messaging : 10,000,000+\nDating App, Flirt & Chat : W-Match : 10,000,000+\nuCiC- Videos and Photos on demand : 100,000+\nMeetup : 5,000,000+\nPOF Free Dating App : 50,000,000+\nTagged - Meet, Chat & Dating : 10,000,000+\nSKOUT - Meet, Chat, Go Live : 50,000,000+\nMico- Stranger Chat Random video Chat, Live, Meet : 10,000,000+\nWaplog - Free Chat, Dating App, Meet Singles : 10,000,000+\nTik Tok - including musical.ly : 100,000,000+\nB-Messenger Video Chat : 1,000,000+\nBIGO LIVE - Live Stream : 100,000,000+\nGreeting Cards & Wishes : 500,000+\nShare G - Images Sharing - Wallpapers App : 10,000+\nH letter images : 1,000+\nInstachat 😜 : 5,000,000+\nFame Boom for Real Followers, Likes : 5,000,000+\nFollowMeter for Instagram : 1,000,000+\nMali J : 10,000+\nKDRAMA Amino for K-Drama Fans : 100,000+\nKPOP Amino for K-Pop Entertainment : 100,000+\nEXO-L Amino for EXO Fans : 50,000+\nVerdad o Reto : 500,000+\npixiv : 1,000,000+\nJoin R, Community Engagement : 1,000+\nU LIVE – Video Chat & Stream : 1,000,000+\nSee U - Random video chat, video chat : 100,000+\nWhat U See : 100,000+\nU-Report : 10,000+\nMeet U - Get Friends for Snapchat, Kik & Instagram : 100,000+\nVMate Lite - Funny Short Videos Social Network : 1,000,000+\nV Bucks ProTips New : 1,000+\ni-share AF/KLM (AFKL ishare) : 100+\nEternal Light AG : 100+\nMessage AI - Write Better Messages (Free) : 100+\nJamaa Amino for Animal Jam : 10,000+\nLegend - Animate Text in Video : 10,000,000+\nGUYZ - Gay Chat & Gay Dating : 1,000,000+\neChallan Andhra Pradesh (AP) : 1,000+\nSnaappy – 3D fun AR core communication platform : 1,000,000+\nUndertale AU Amino : 50,000+\nAu Pair : 10,000+\nMedia Sosial TNI AU : 1,000+\nBA 3 Banjarmasin : 10+\niCard BD Plus : 500+\nMovement BE : 100+\nYAY - TBH : 100,000+\nFind My Friends : 10,000,000+\nBG LINKED (BGLINKED) : 1,000+\nZdravei.BG : 1,000+\nBGKontakti London BG Kontakti : 500+\nBGKontakti Bayern BG Kontakti : 1,000+\nBGKontakti Vienna BG Kontakti : 1,000+\nDiscípulos em BH : 100+\nBH Connect : 1+\nGayvox - Gay Lesbian Bi Dating : 500,000+\nGrindr - Gay chat : 10,000,000+\nLesbian Chat & Dating - SPICY : 1,000,000+\nAlumni BJ : 100+\nVK : 100,000,000+\nBK Traffic Control cum Chart : 10,000+\nDaily Murli Saar Widget : 10,000+\nMyjob@BM : 100+\nbm-Events : 10+\nBOO! - Next Generation Messenger : 1,000,000+\nWishbone - Compare Anything : 1,000,000+\nBR Chat Bot : 1,000+\nBr Browser : 500+\nDr B R Ambedkar (Jai Bhim) : 100,000+\nDr. B.R.Ambedkar : 100,000+\nBlack Social : 1,000+\nBT Communicator : 10,000+\nBT Dating -Find your match, help cupid, be social : 50,000+\nFiesta by Tango - Find, Meet and Make New Friends : 1,000,000+\nEvasion.bz : 100+\nCB Heroes : 5+\nCG Districts : 1,000+\nDigi-TV.ch : 10,000+\nStudents.ch : 1,000+\nCJ Gospel Hour : 100+\nPekalongan CJ : 0+\nHashtags For Likes.co : 50,000+\nCP Dialer : 50,000+\nC.P. CERVANTES (TOBARRA) : 5+\nCyprus Police : 10,000+\nRande.cz : 50,000+\nsignály.cz : 1,000+\nDB Event App : 5,000+\nDC Comics Amino : 1,000+\nDF BugMeNot : 500+\nNoticias DF : 1,000+\nPeriscope - Live Video : 10,000,000+\nDaddyhunt: Gay Dating : 500,000+\nFree phone calls, free texting SMS on free number : 10,000,000+\nPhone Tracker : Family Locator : 10,000,000+\nHOLLA Live: Meet New People via Random Video Chat : 5,000,000+\nDating.dk : 100,000+\nDK Murali : 500+\nGirlTalk.dk : 100+\n+Download 4 Instagram Twitter : 1,000,000+\nDM Me - Chat : 10,000+\nDM for IG 😘 - Image & Video Saver for Instagram : 5,000+\nAuto DM for Twitter 🔥 : 1,000+\nDM Storage (for twitter) : 100+\nFake Chat (Direct Message) : 500,000+\nOtto DM : 10+\nDN Blog : 10+\nDP and Status for WhatsApp 2018 : 100,000+\nDp For Whatsapp : 5,000+\nProfile Pictures and DP for Whatsapp : 5,000+\nDp for Facebook : 5,000+\nBest DP and Status : 10,000+\nInstant DP Downloader for Instagram : 5,000+\nDP Display Pictures Life Quotes Motivational GM : 5,000+\nQeek for Instagram - Zoom profile insta DP : 500,000+\nDV Statistics : 100+\nDW Streaming : 1,000+\nNews Dz : 10+\nquran-DZ : 10+\nTN e Sevai TN EB Bill Patta Citta EC Birth All Hub : 5,000+\nTNEB Bill Online Payment (Tamil) : 5,000+\nUP EB Bill Payment & Details : 50+\nTN EC Online New : 1,000+\nTN Patta /Chitta /EC New : 100+\nEG Way Life : 50+\nEquestria Amino for MLP : 50,000+\nEk Maratha : 10,000+\nHum Ek Hain 2.02 : 10+\nSabka Malik Ek Sai : 1,000+\nEO RAIPUR : 10+\nAnime et Manga Amino en Français : 50,000+\nHornet - Gay Social Network : 5,000,000+\nAmino: Communities and Chats : 10,000,000+\nEuropean Solidarity Corps : 1,000+\nReisedealz.eu : 10+\nEddsworld Amino : 10,000+\nRejoin Your Ex : 100+\nAmleen Ey : 1+\nCoupe Adhémar EY 2017 : 50+\nEZ Video Download for Facebook : 1,000,000+\nMessages, Text and Video Chat for Messenger : 10,000,000+\nAll Social Networks : 1,000,000+\nMessenger Messenger : 10,000,000+\nFacebook Creator : 1,000,000+\nSwift for Facebook Lite : 500,000+\nFriendly for Facebook : 1,000,000+\nFaster for Facebook Lite : 1,000,000+\nPuffin for Facebook : 500,000+\nProfile Tracker - Who Viewed My Facebook Profile : 500,000+\nPink Color for Facebook : 500,000+\nMessenger : 10,000,000+\nStickers for Imo, fb, whatsapp : 10,000+\nWho Viewed My Facebook Profile - Stalkers Visitors : 5,000,000+\nDownloader plus for FB : 500+\nMB Notifications for FB (Free) : 100,000+\nPhoenix - Facebook & Messenger : 100,000+\nFaster Social for Facebook : 100,000+\nCheck Your Visitors on FB ? : 5,000+\nStickers for Facebook : 1,000,000+\nLite Messenger for Facebook Lite : 10,000+\nMini for Facebook lite : 10,000+\nFB Advanced Search : 50+\nfunny Image Comments for FB : 5,000+\nUnlimited Group Links - Whatsapp, FB, Telegram : 10,000+\nFCB Connect - FC Barcelona : 50,000+\nFrases Cristianas de Esperanza y Fe : 100+\nFutureNet your social app : 100,000+\nAlarm.fo – choose your info : 1,000+\nFunForMobile Ringtones & Chat : 5,000,000+\nChat For Strangers - Video Chat : 100,000+\nFr Daoud Lamei : 100,000+\nNaruto & Boruto FR : 100+\nFrim: get new friends on local chat rooms : 5,000,000+\n"
     ]
    }
   ],
   "source": [
    "android_app_in_cat('SOCIAL')"
   ]
  },
  {
   "source": [
    "We see that indeed, most of these categories are skewed by a few apps (WhatsApp, Facebook, YouTube etc.)."
   ],
   "cell_type": "markdown",
   "metadata": {}
  },
  {
   "cell_type": "code",
   "execution_count": 51,
   "metadata": {},
   "outputs": [
    {
     "output_type": "stream",
     "name": "stdout",
     "text": [
      "TouchNote: Cards & Gifts : 1,000,000+\nFreePrints – Free Photos Delivered : 1,000,000+\nGroovebook Photo Books & Gifts : 500,000+\nMoony Lab - Print Photos, Books & Magnets ™ : 50,000+\nLALALAB prints your photos, photobooks and magnets : 1,000,000+\nSnapfish : 1,000,000+\nMotorola Camera : 50,000,000+\nHD Camera - Best Cam with filters & panorama : 5,000,000+\nLightX Photo Editor & Photo Effects : 10,000,000+\nSweet Snap - live filter, Selfie photo edit : 10,000,000+\nHD Camera - Quick Snap Photo & Video : 1,000,000+\nB612 - Beauty & Filter Camera : 100,000,000+\nWaterfall Photo Frames : 1,000,000+\nPhoto frame : 100,000+\nHuji Cam : 5,000,000+\nUnicorn Photo : 1,000,000+\nHD Camera : 5,000,000+\nMakeup Editor -Beauty Photo Editor & Selfie Camera : 1,000,000+\nMakeup Photo Editor: Makeup Camera & Makeup Editor : 1,000,000+\nMoto Photo Editor : 5,000,000+\nInstaBeauty -Makeup Selfie Cam : 50,000,000+\nGarden Photo Frames - Garden Photo Editor : 500,000+\nPhoto Frame : 10,000,000+\nSelfie Camera - Photo Editor & Filter & Sticker : 50,000,000+\nSweet Snap Lite - live filter, Selfie photo editor : 500,000+\nSelfie Camera: Beauty Camera, Photo Editor,Collage : 1,000,000+\nNight Photo Frame : 1,000,000+\nYouCam Makeup - Magic Selfie Makeovers : 100,000,000+\nSelfie Photo Editor : 1,000,000+\nASUS Gallery : 50,000,000+\nKids Photo Frames : 1,000,000+\nPencil Photo Sketch-Sketching Drawing Photo Editor : 1,000,000+\nPretty Makeup, Beauty Photo Editor & Snappy Camera : 5,000,000+\nPhoto Collage - Layout Editor : 10,000,000+\nDSLR Camera Hd Ultra Professional : 1,000,000+\nSnap Cat Face Camera : 1,000,000+\nSilent Camera [High Quality] : 5,000,000+\nSweet Camera - Selfie Filters, Beauty Camera : 10,000,000+\nPhoto Frames : 10,000,000+\nSweet Selfie - selfie camera, beauty cam, photo edit : 100,000,000+\nCandy selfie - photo editor, live filter camera : 10,000,000+\nOpen Camera : 10,000,000+\nBeauty Makeup – Photo Makeover : 1,000,000+\nBlur Image Background Editor (Blur Photo Editor) : 5,000,000+\nMuzy - Share photos & collages : 5,000,000+\nQuickPic - Photo Gallery with Google Drive Support : 10,000,000+\nFlickr : 10,000,000+\nCamera for Android : 10,000,000+\nPhoto Mixer : 10,000,000+\nWondershare PowerCam : 10,000,000+\nlove : 1,000,000+\nKVAD Camera +: Selfie, Photo Filter, Grids : 1,000,000+\nCamera51 - a smarter camera : 1,000,000+\nInstaCam - Camera for Selfie : 1,000,000+\nSweet Camera : 5,000,000+\nRetroSelfie - Selfie Editor : 10,000,000+\nMega Photo : 1,000,000+\nBlur Image Background : 10,000,000+\nMIX by Camera360 : 5,000,000+\nGoogle Photos : 1,000,000,000+\nSuperPhoto - Effects & Filters : 5,000,000+\nCamera FV-5 Lite : 10,000,000+\nHD Camera Ultra : 10,000,000+\nCameringo Lite. Filters Camera : 10,000,000+\nCamera ZOOM FX - FREE : 5,000,000+\nHD Camera Pro for Android : 1,000,000+\nGoPro (formerly Capture) : 10,000,000+\nBeauty Makeup Snappy Collage Photo Editor - Lidow : 10,000,000+\nSamsung SMART CAMERA App : 1,000,000+\nSquare InPic - Photo Editor & Collage Maker : 50,000,000+\nHigh-Speed Camera (GIF,Burst) : 5,000,000+\nCamera MX - Free Photo & Video Camera : 10,000,000+\nEyeEm - Camera & Photo Filter : 10,000,000+\nRetrica : 100,000,000+\nVSCO : 50,000,000+\nPhotoWonder: Pro Beauty Photo Editor Collage Maker : 50,000,000+\nPhoto Effects Pro : 50,000,000+\nPhoto Editor Selfie Camera Filter & Mirror Image : 50,000,000+\nNo Crop & Square for Instagram : 10,000,000+\nPicture Grid Builder : 5,000,000+\nHD Camera for Android : 10,000,000+\nPhoto Studio : 10,000,000+\nPhoto Editor Pro : 100,000,000+\nPhoto Editor- : 5,000,000+\nMirror Photo:Editor Collage (HD) : 10,000,000+\nPic Stitch - #1 Collage Maker : 1,000,000+\nPhotoDirector Photo Editor App : 10,000,000+\nPic Collage - Photo Editor : 50,000,000+\nPhoto Editor by Aviary : 50,000,000+\nVideo Editor Music,Cut,No Crop : 50,000,000+\nPixlr – Free Photo Editor : 50,000,000+\nPhoto Editor : 10,000,000+\nPhoto Collage Maker : 10,000,000+\nAdobe Photoshop Express:Photo Editor Collage Maker : 50,000,000+\nBeautyPlus - Easy Photo Editor & Selfie Camera : 100,000,000+\nPicsArt Photo Studio: Collage Maker & Pic Editor : 100,000,000+\nPhoto Collage Editor : 100,000,000+\nColor Touch Effects : 10,000,000+\nInstaSize Photo Filters & Collage Editor : 50,000,000+\nZ Camera - Photo Editor, Beauty Selfie, Collage : 100,000,000+\nPhotoGrid: Video & Pic Collage Maker, Photo Editor : 100,000,000+\nCandy Camera - selfie, beauty camera, photo editor : 100,000,000+\nYouCam Perfect - Selfie Photo Editor : 100,000,000+\nPixgram- video photo slideshow : 5,000,000+\nFotor Photo Editor - Photo Collage & Photo Effects : 10,000,000+\nSnapseed : 50,000,000+\nCamera360: Selfie Photo Editor with Funny Sticker : 100,000,000+\nFont Studio- Photo Texts Image : 10,000,000+\nAdd Text To Photo : 1,000,000+\nPhonto - Text on Photos : 10,000,000+\nCollage&Add Stickers papelook : 5,000,000+\nShutterfly: Free Prints, Photo Books, Cards, Gifts : 5,000,000+\nPhoto Collage - InstaMag : 10,000,000+\nMeitu – Beauty Cam, Easy Photo Editor : 10,000,000+\nBestie - Camera360 Selfie : 10,000,000+\nB Tiff Viewer : 100,000+\nF-Stop Gallery : 1,000,000+\nHow Do I Look : 500,000+\nKeepsafe Photo Vault: Hide Private Photos & Videos : 50,000,000+\nMakeupPlus - Your Own Virtual Makeup Artist : 50,000,000+\nPixlr-o-matic : 10,000,000+\nPixelLab - Text on pictures : 10,000,000+\nLeica Q : 10,000+\nS Photo Editor - Collage Maker , Photo Collage : 100,000,000+\nU Camera : Phone 6s OS 9 style : 500,000+\nV.360° Camera : 100,000+\nProfile w/o crop for Telegram : 10,000+\nZ Camera : 10,000+\nSix Pack Abs Photo Editor : 1,000,000+\nBrica BPRO5 AE : 500,000+\nAfterFocus : 10,000,000+\nDSLR camera - Auto Focus and Blur Professional : 10,000+\nAR effect : 100,000,000+\nASUS PixelMaster Camera : 10,000,000+\neasyFocus : 500,000+\nBlur Image - DSLR focus effect : 5,000,000+\nCamera Pro : 1,000,000+\nHD Camera - silent shutter : 1,000,000+\nA Better Camera : 5,000,000+\nAuto Dslr Photo Effect : Auto Focus Effect : 1,000+\nPhotoScan by Google Photos : 10,000,000+\nAfterlight : 1,000,000+\nBlurfoto : Auto blur photo background & DSLR focus : 500,000+\nBlur : 1,000,000+\nPicai - Smart AI Camera : 100,000+\nAdobe Illustrator Draw : 5,000,000+\nFaceApp : 10,000,000+\nAI Image Recognizer (beta) : 500+\nAJ Cam : 100+\nSelfie With Champion AJ Style : 500+\nA.J. Styles HD Wallpapers 2018 : 100+\nScoompa Video - Slideshow Maker and Video Editor : 10,000,000+\nAEE AP : 1,000+\nSNOW - AR Camera : 50,000,000+\nAdd Watermark Free : 1,000,000+\ncamera zoom moon : 500,000+\nAZ Camera - Manual Pro Cam : 100,000+\nBC Camera : 500+\nPhoto Editor by BeFunky : 10,000,000+\nBe Fabulous PHOTO BOOTH : 10,000+\nAdobe Photoshop Fix : 5,000,000+\nPhoto BG Changer : 1,000+\nBG Editor : 5+\nPhotoLayers〜Superimpose,Eraser : 10,000,000+\nBlender BG - Photo Blend With Background : 100+\nAuto Background Changer : 1,000,000+\nChange photo background : 5,000,000+\nBackground Eraser : 10,000,000+\nBackground Changer & Eraser : 500,000+\nCut Out : Background Eraser and background changer : 1,000,000+\nUltimate Background Eraser : 1,000,000+\nDSLR Photography Training apps : 100,000+\nPhoto Editor - BPhoto : 1,000+\n24 megapixel hd camera : 100,000+\nBK Photography : 1,000+\nBL 1-Click Camera - Free : 10,000+\nBL Portfolio : 100+\nBQ Camera : 1,000,000+\nBT Camera : 500,000+\nBlitzWolf Shutter - BW Shutter : 50,000+\nBlack & White Camera - Lovely BW : 100,000+\nAnalog BW - Camera filter effect foto film retouch : 100+\nHypocam : 1,000,000+\nB&W Photo Filter Editor : 50,000+\nCB VIDEO VISION : 100+\nCB Hair Png - New Hair Png For CB Editing : 500+\nCB Edits PNG & CB Backgrounds : 5,000+\nCG Prints : 100+\nGold Teeth Photo Editor : 100,000+\nNight Camera Blur Effect : 10,000+\nCamera V7 24 Megapixel : 100,000+\nLeica CL : 1,000+\nCanon CameraWindow : 1,000,000+\nCymera Camera- Photo Editor, Filter,Collage,Layout : 100,000,000+\nCamera360 Lite - Selfie Camera : 10,000,000+\nWallpaper.cz : 100+\nFace Filter, Selfie Editor - Sweet Camera : 10,000,000+\nVisage Lab – face retouch : 5,000,000+\nLC-DB-LITE : 100+\nDC-014 : 500+\nBokeh (Background defocus) : 10,000,000+\nLove Collage - Photo Editor : 10,000,000+\nLINE Camera - Photo editor : 100,000,000+\nDF Night Selfies : 10,000+\nMy Photo Keyboard : 10,000,000+\nStory Saver for Instagram : 5,000,000+\nBoomerang from Instagram : 50,000,000+\nInsave-Download for Instagram : 1,000,000+\nDM הפקות : 100+\nDP Editor : 5,000+\nDP Maker : 100,000+\nSquare DP For Whatsapp : 10,000+\nDP Creator for WhatsApp : 100,000+\nDp For FB : 1,000+\nMagical Insta DP : 1,000+\nAll Types DP & Status Maker : 1,000+\nDP Photo Editor : 10,000+\nFifa World Cup 2018: Photo Frame Editor & DP Maker : 100,000+\nInsta Square Profile DP : 5,000+\nDP Status 2017 : 50,000+\nLightMeter Free : 1,000,000+\nDS-L4 Viewer : 1,000+\nDU GIF Maker: GIF Maker, Video to GIF & GIF Editor : 500,000+\nDU Collage Maker - Photo Collage & Grid & Layout : 100,000+\nLive DV : 1,000+\nDV-4036 by Somikon : 1,000+\nTouch DV : 50+\nXDV : 1,000,000+\nDV Lottery Photo Tool : 50,000+\nDV KING 4K : 100+\nWifi Action Camera : 50,000+\n4K Ultra Camera : 100,000+\nDV KING : 100+\nDENVER ACTION CAM 3 : 10,000+\nSportLook : 100,000+\nDisplaying You VR : 50+\ni am EB : 10+\nRetro Camera : 10,000,000+\nFootej Camera : 1,000,000+\nVideo Maker with Photo and Music : 1,000,000+\nPhogy, 3D Camera : 1,000,000+\nPhoto Lab Picture Editor: face effects, art frames : 50,000,000+\nMomentCam Cartoons & Stickers : 50,000,000+\nA+ Gallery - Photos & Videos : 10,000,000+\nLight Meter - EV : 1,000+\nFilterGrid - Cam&Photo Editor : 1,000,000+\nez Share Android app : 100,000+\nEz iCam : 1,000,000+\nFacejjang : 10,000,000+\nCover Camera for FB : 100,000+\nFB Photographie : 1,000+\nFD Fotografia : 100+\nGhost In Photo : 5,000,000+\nFH WiFiCam : 10,000+\nPIP Selfie Camera Photo Editor : 10,000,000+\nFL Drone 2 : 5,000+\nFN Cam : 10,000+\nPIP-Camera FN Photo Effect : 1,000+\nPhoto Editor Collage Maker Pro : 100,000,000+\nFree Slideshow Maker & Video Editor : 10,000,000+\nThumbnail Maker : 1,000,000+\nPhotoFunia : 10,000,000+\n"
     ]
    }
   ],
   "source": [
    "android_app_in_cat('PHOTOGRAPHY')"
   ]
  },
  {
   "source": [
    "Further investigation shows that photography and books and reference are both good categories for having a high number of average installs but a good spread of apps with less skew across the category. Since the reference category performed well in the iOS App Store dataset, this might be a good bet."
   ],
   "cell_type": "markdown",
   "metadata": {}
  },
  {
   "cell_type": "code",
   "execution_count": 52,
   "metadata": {},
   "outputs": [
    {
     "output_type": "stream",
     "name": "stdout",
     "text": [
      "Google Play Books : 1,000,000,000+\n",
      "Bible : 100,000,000+\n",
      "Amazon Kindle : 100,000,000+\n",
      "Wattpad 📖 Free Books : 100,000,000+\n",
      "Audiobooks from Audible : 100,000,000+\n"
     ]
    }
   ],
   "source": [
    "# Books and reference with over 100M installs\n",
    "for app in android_free:\n",
    "    installs = int(app[5].replace('+','').replace(',',''))\n",
    "    category = app[1]\n",
    "    if category == 'BOOKS_AND_REFERENCE' and installs >= 100_000_000:\n",
    "        print(f'{app[0]} : {app[5]}')"
   ]
  },
  {
   "cell_type": "code",
   "execution_count": 53,
   "metadata": {},
   "outputs": [
    {
     "output_type": "stream",
     "name": "stdout",
     "text": [
      "Wikipedia : 10,000,000+\nCool Reader : 10,000,000+\nBook store : 1,000,000+\nFBReader: Favorite Book Reader : 10,000,000+\nFree Books - Spirit Fanfiction and Stories : 1,000,000+\nAlReader -any text book reader : 5,000,000+\nFamilySearch Tree : 1,000,000+\nCloud of Books : 1,000,000+\nReadEra – free ebook reader : 1,000,000+\nEbook Reader : 5,000,000+\nRead books online : 5,000,000+\neBoox: book reader fb2 epub zip : 1,000,000+\nAll Maths Formulas : 1,000,000+\nAncestry : 5,000,000+\nHTC Help : 10,000,000+\nMoon+ Reader : 10,000,000+\nEnglish-Myanmar Dictionary : 1,000,000+\nGolden Dictionary (EN-AR) : 1,000,000+\nAll Language Translator Free : 1,000,000+\nAldiko Book Reader : 10,000,000+\nDictionary - WordWeb : 5,000,000+\n50000 Free eBooks & Free AudioBooks : 5,000,000+\nAl-Quran (Free) : 10,000,000+\nAl Quran Indonesia : 10,000,000+\nAl'Quran Bahasa Indonesia : 10,000,000+\nAl Quran Al karim : 1,000,000+\nAl Quran : EAlim - Translations & MP3 Offline : 5,000,000+\nKoran Read &MP3 30 Juz Offline : 1,000,000+\nHafizi Quran 15 lines per page : 1,000,000+\nQuran for Android : 10,000,000+\nSatellite AR : 1,000,000+\nOxford A-Z of English Usage : 1,000,000+\nDictionary.com: Find Definitions for English Words : 10,000,000+\nEnglish Dictionary - Offline : 10,000,000+\nBible KJV : 5,000,000+\nNOOK: Read eBooks & Magazines : 10,000,000+\nBrilliant Quotes: Life, Love, Family & Motivation : 1,000,000+\nStats Royale for Clash Royale : 1,000,000+\nDictionary : 10,000,000+\nwikiHow: how to do anything : 1,000,000+\nEGW Writings : 1,000,000+\nMy Little Pony AR Guide : 1,000,000+\nSpanish English Translator : 10,000,000+\nDictionary - Merriam-Webster : 10,000,000+\nJW Library : 10,000,000+\nOxford Dictionary of English : Free : 10,000,000+\nEnglish Hindi Dictionary : 10,000,000+\nEnglish to Hindi Dictionary : 5,000,000+\n"
     ]
    }
   ],
   "source": [
    "# Books and reference with between 1M and 100M downloads\n",
    "for app in android_free:\n",
    "    installs = int(app[5].replace('+','').replace(',',''))\n",
    "    category = app[1]\n",
    "    if category == 'BOOKS_AND_REFERENCE' and installs >= 1_000_000 and installs < 100_000_000:\n",
    "        print(f'{app[0]} : {app[5]}')"
   ]
  },
  {
   "source": [
    "Excluding the few apps in the books and reference category with lots of installs, we see that there are plently of apps with more than 1M installs. This list contains lots of books about the Quran and eBooks. From this we might suggest that the business builds an app around a classic book that has some eBook features such as audio reading.\n",
    "\n",
    "## Conclusions\n",
    "In this project, we analyzed data about the App Store and Google Play mobile apps with the goal of recommending an app profile that can be profitable for both markets.\n",
    "\n",
    "We concluded that taking a popular book (perhaps a more recent book) and turning it into an app could be profitable for both the Google Play and the App Store markets. The markets are already full of libraries, so we need to add some special features besides the raw version of the book. This might include daily quotes from the book, an audio version of the book, quizzes on the book, a forum where people can discuss the book, etc."
   ],
   "cell_type": "markdown",
   "metadata": {}
  }
 ]
}